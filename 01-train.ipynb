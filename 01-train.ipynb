{
 "cells": [
  {
   "cell_type": "code",
   "execution_count": 1,
   "metadata": {
    "ExecuteTime": {
     "end_time": "2020-05-30T14:41:35.039315Z",
     "start_time": "2020-05-30T14:41:35.027290Z"
    }
   },
   "outputs": [],
   "source": [
    "%reload_ext autoreload\n",
    "%autoreload 2"
   ]
  },
  {
   "cell_type": "code",
   "execution_count": 2,
   "metadata": {
    "ExecuteTime": {
     "end_time": "2020-05-30T14:42:45.063320Z",
     "start_time": "2020-05-30T14:42:44.213067Z"
    }
   },
   "outputs": [],
   "source": [
    "from fastai2.tabular.all import *\n",
    "from fastai2.imports import *"
   ]
  },
  {
   "cell_type": "code",
   "execution_count": 82,
   "metadata": {
    "ExecuteTime": {
     "end_time": "2020-05-30T15:45:36.701468Z",
     "start_time": "2020-05-30T15:45:36.686210Z"
    }
   },
   "outputs": [],
   "source": [
    "from fastai2.metrics import rmse"
   ]
  },
  {
   "cell_type": "code",
   "execution_count": 17,
   "metadata": {
    "ExecuteTime": {
     "end_time": "2020-05-30T15:00:02.003974Z",
     "start_time": "2020-05-30T15:00:01.982894Z"
    }
   },
   "outputs": [],
   "source": [
    "from utils import *"
   ]
  },
  {
   "cell_type": "code",
   "execution_count": 15,
   "metadata": {
    "ExecuteTime": {
     "end_time": "2020-05-30T14:57:43.531032Z",
     "start_time": "2020-05-30T14:57:43.515769Z"
    }
   },
   "outputs": [],
   "source": [
    "pd.set_option('display.max_rows',100)"
   ]
  },
  {
   "cell_type": "code",
   "execution_count": 5,
   "metadata": {
    "ExecuteTime": {
     "end_time": "2020-05-30T14:44:48.737266Z",
     "start_time": "2020-05-30T14:44:48.705705Z"
    }
   },
   "outputs": [],
   "source": [
    "path=Path('./data')"
   ]
  },
  {
   "cell_type": "code",
   "execution_count": 25,
   "metadata": {
    "ExecuteTime": {
     "end_time": "2020-05-30T15:06:57.306504Z",
     "start_time": "2020-05-30T15:06:53.849087Z"
    }
   },
   "outputs": [],
   "source": [
    "whole_df = ld_var(name='dozers', path=path, bzipped=True)"
   ]
  },
  {
   "cell_type": "code",
   "execution_count": 26,
   "metadata": {
    "ExecuteTime": {
     "end_time": "2020-05-30T15:06:57.481764Z",
     "start_time": "2020-05-30T15:06:57.465347Z"
    }
   },
   "outputs": [
    {
     "data": {
      "text/plain": [
       "Index(['SalesID', 'SalePrice', 'MachineID', 'ModelID', 'datasource',\n",
       "       'auctioneerID', 'YearMade', 'MachineHoursCurrentMeter', 'UsageBand',\n",
       "       'fiModelDesc', 'fiBaseModel', 'fiSecondaryDesc', 'fiModelSeries',\n",
       "       'fiModelDescriptor', 'ProductSize', 'fiProductClassDesc', 'state',\n",
       "       'ProductGroup', 'ProductGroupDesc', 'Drive_System', 'Enclosure',\n",
       "       'Forks', 'Pad_Type', 'Ride_Control', 'Stick', 'Transmission',\n",
       "       'Turbocharged', 'Blade_Extension', 'Blade_Width', 'Enclosure_Type',\n",
       "       'Engine_Horsepower', 'Hydraulics', 'Pushblock', 'Ripper', 'Scarifier',\n",
       "       'Tip_Control', 'Tire_Size', 'Coupler', 'Coupler_System',\n",
       "       'Grouser_Tracks', 'Hydraulics_Flow', 'Track_Type',\n",
       "       'Undercarriage_Pad_Width', 'Stick_Length', 'Thumb', 'Pattern_Changer',\n",
       "       'Grouser_Type', 'Backhoe_Mounting', 'Blade_Type', 'Travel_Controls',\n",
       "       'Differential_Type', 'Steering_Controls', 'saleYear', 'saleMonth',\n",
       "       'saleWeek', 'saleDay', 'saleDayofweek', 'saleDayofyear',\n",
       "       'saleIs_month_end', 'saleIs_month_start', 'saleIs_quarter_end',\n",
       "       'saleIs_quarter_start', 'saleIs_year_end', 'saleIs_year_start',\n",
       "       'saleElapsed'],\n",
       "      dtype='object')"
      ]
     },
     "execution_count": 26,
     "metadata": {},
     "output_type": "execute_result"
    }
   ],
   "source": [
    "whole_df.columns"
   ]
  },
  {
   "cell_type": "code",
   "execution_count": 27,
   "metadata": {
    "ExecuteTime": {
     "end_time": "2020-05-30T15:07:03.324410Z",
     "start_time": "2020-05-30T15:07:02.506765Z"
    }
   },
   "outputs": [
    {
     "data": {
      "text/html": [
       "<div>\n",
       "<style scoped>\n",
       "    .dataframe tbody tr th:only-of-type {\n",
       "        vertical-align: middle;\n",
       "    }\n",
       "\n",
       "    .dataframe tbody tr th {\n",
       "        vertical-align: top;\n",
       "    }\n",
       "\n",
       "    .dataframe thead th {\n",
       "        text-align: right;\n",
       "    }\n",
       "</style>\n",
       "<table border=\"1\" class=\"dataframe\">\n",
       "  <thead>\n",
       "    <tr style=\"text-align: right;\">\n",
       "      <th></th>\n",
       "      <th>column</th>\n",
       "      <th>uniques</th>\n",
       "      <th>uniques %</th>\n",
       "    </tr>\n",
       "  </thead>\n",
       "  <tbody>\n",
       "    <tr>\n",
       "      <th>0</th>\n",
       "      <td>SalesID</td>\n",
       "      <td>412698</td>\n",
       "      <td>100.000000</td>\n",
       "    </tr>\n",
       "    <tr>\n",
       "      <th>2</th>\n",
       "      <td>MachineID</td>\n",
       "      <td>348808</td>\n",
       "      <td>84.518946</td>\n",
       "    </tr>\n",
       "    <tr>\n",
       "      <th>7</th>\n",
       "      <td>MachineHoursCurrentMeter</td>\n",
       "      <td>15634</td>\n",
       "      <td>3.788242</td>\n",
       "    </tr>\n",
       "    <tr>\n",
       "      <th>3</th>\n",
       "      <td>ModelID</td>\n",
       "      <td>5281</td>\n",
       "      <td>1.279628</td>\n",
       "    </tr>\n",
       "    <tr>\n",
       "      <th>9</th>\n",
       "      <td>fiModelDesc</td>\n",
       "      <td>5059</td>\n",
       "      <td>1.225836</td>\n",
       "    </tr>\n",
       "    <tr>\n",
       "      <th>64</th>\n",
       "      <td>saleElapsed</td>\n",
       "      <td>4013</td>\n",
       "      <td>0.972382</td>\n",
       "    </tr>\n",
       "    <tr>\n",
       "      <th>10</th>\n",
       "      <td>fiBaseModel</td>\n",
       "      <td>1961</td>\n",
       "      <td>0.475166</td>\n",
       "    </tr>\n",
       "    <tr>\n",
       "      <th>1</th>\n",
       "      <td>SalePrice</td>\n",
       "      <td>954</td>\n",
       "      <td>0.231162</td>\n",
       "    </tr>\n",
       "    <tr>\n",
       "      <th>57</th>\n",
       "      <td>saleDayofyear</td>\n",
       "      <td>361</td>\n",
       "      <td>0.087473</td>\n",
       "    </tr>\n",
       "    <tr>\n",
       "      <th>11</th>\n",
       "      <td>fiSecondaryDesc</td>\n",
       "      <td>178</td>\n",
       "      <td>0.043131</td>\n",
       "    </tr>\n",
       "    <tr>\n",
       "      <th>13</th>\n",
       "      <td>fiModelDescriptor</td>\n",
       "      <td>141</td>\n",
       "      <td>0.034165</td>\n",
       "    </tr>\n",
       "    <tr>\n",
       "      <th>12</th>\n",
       "      <td>fiModelSeries</td>\n",
       "      <td>124</td>\n",
       "      <td>0.030046</td>\n",
       "    </tr>\n",
       "    <tr>\n",
       "      <th>15</th>\n",
       "      <td>fiProductClassDesc</td>\n",
       "      <td>74</td>\n",
       "      <td>0.017931</td>\n",
       "    </tr>\n",
       "    <tr>\n",
       "      <th>6</th>\n",
       "      <td>YearMade</td>\n",
       "      <td>71</td>\n",
       "      <td>0.017204</td>\n",
       "    </tr>\n",
       "    <tr>\n",
       "      <th>16</th>\n",
       "      <td>state</td>\n",
       "      <td>53</td>\n",
       "      <td>0.012842</td>\n",
       "    </tr>\n",
       "    <tr>\n",
       "      <th>54</th>\n",
       "      <td>saleWeek</td>\n",
       "      <td>53</td>\n",
       "      <td>0.012842</td>\n",
       "    </tr>\n",
       "    <tr>\n",
       "      <th>5</th>\n",
       "      <td>auctioneerID</td>\n",
       "      <td>31</td>\n",
       "      <td>0.007512</td>\n",
       "    </tr>\n",
       "    <tr>\n",
       "      <th>55</th>\n",
       "      <td>saleDay</td>\n",
       "      <td>31</td>\n",
       "      <td>0.007512</td>\n",
       "    </tr>\n",
       "    <tr>\n",
       "      <th>43</th>\n",
       "      <td>Stick_Length</td>\n",
       "      <td>30</td>\n",
       "      <td>0.007269</td>\n",
       "    </tr>\n",
       "    <tr>\n",
       "      <th>52</th>\n",
       "      <td>saleYear</td>\n",
       "      <td>24</td>\n",
       "      <td>0.005815</td>\n",
       "    </tr>\n",
       "    <tr>\n",
       "      <th>42</th>\n",
       "      <td>Undercarriage_Pad_Width</td>\n",
       "      <td>20</td>\n",
       "      <td>0.004846</td>\n",
       "    </tr>\n",
       "    <tr>\n",
       "      <th>36</th>\n",
       "      <td>Tire_Size</td>\n",
       "      <td>18</td>\n",
       "      <td>0.004362</td>\n",
       "    </tr>\n",
       "    <tr>\n",
       "      <th>31</th>\n",
       "      <td>Hydraulics</td>\n",
       "      <td>13</td>\n",
       "      <td>0.003150</td>\n",
       "    </tr>\n",
       "    <tr>\n",
       "      <th>53</th>\n",
       "      <td>saleMonth</td>\n",
       "      <td>12</td>\n",
       "      <td>0.002908</td>\n",
       "    </tr>\n",
       "    <tr>\n",
       "      <th>48</th>\n",
       "      <td>Blade_Type</td>\n",
       "      <td>11</td>\n",
       "      <td>0.002665</td>\n",
       "    </tr>\n",
       "    <tr>\n",
       "      <th>25</th>\n",
       "      <td>Transmission</td>\n",
       "      <td>9</td>\n",
       "      <td>0.002181</td>\n",
       "    </tr>\n",
       "    <tr>\n",
       "      <th>49</th>\n",
       "      <td>Travel_Controls</td>\n",
       "      <td>8</td>\n",
       "      <td>0.001938</td>\n",
       "    </tr>\n",
       "    <tr>\n",
       "      <th>28</th>\n",
       "      <td>Blade_Width</td>\n",
       "      <td>7</td>\n",
       "      <td>0.001696</td>\n",
       "    </tr>\n",
       "    <tr>\n",
       "      <th>14</th>\n",
       "      <td>ProductSize</td>\n",
       "      <td>7</td>\n",
       "      <td>0.001696</td>\n",
       "    </tr>\n",
       "    <tr>\n",
       "      <th>56</th>\n",
       "      <td>saleDayofweek</td>\n",
       "      <td>7</td>\n",
       "      <td>0.001696</td>\n",
       "    </tr>\n",
       "    <tr>\n",
       "      <th>20</th>\n",
       "      <td>Enclosure</td>\n",
       "      <td>7</td>\n",
       "      <td>0.001696</td>\n",
       "    </tr>\n",
       "    <tr>\n",
       "      <th>17</th>\n",
       "      <td>ProductGroup</td>\n",
       "      <td>6</td>\n",
       "      <td>0.001454</td>\n",
       "    </tr>\n",
       "    <tr>\n",
       "      <th>4</th>\n",
       "      <td>datasource</td>\n",
       "      <td>6</td>\n",
       "      <td>0.001454</td>\n",
       "    </tr>\n",
       "    <tr>\n",
       "      <th>18</th>\n",
       "      <td>ProductGroupDesc</td>\n",
       "      <td>6</td>\n",
       "      <td>0.001454</td>\n",
       "    </tr>\n",
       "    <tr>\n",
       "      <th>51</th>\n",
       "      <td>Steering_Controls</td>\n",
       "      <td>6</td>\n",
       "      <td>0.001454</td>\n",
       "    </tr>\n",
       "    <tr>\n",
       "      <th>50</th>\n",
       "      <td>Differential_Type</td>\n",
       "      <td>5</td>\n",
       "      <td>0.001212</td>\n",
       "    </tr>\n",
       "    <tr>\n",
       "      <th>22</th>\n",
       "      <td>Pad_Type</td>\n",
       "      <td>5</td>\n",
       "      <td>0.001212</td>\n",
       "    </tr>\n",
       "    <tr>\n",
       "      <th>33</th>\n",
       "      <td>Ripper</td>\n",
       "      <td>5</td>\n",
       "      <td>0.001212</td>\n",
       "    </tr>\n",
       "    <tr>\n",
       "      <th>19</th>\n",
       "      <td>Drive_System</td>\n",
       "      <td>5</td>\n",
       "      <td>0.001212</td>\n",
       "    </tr>\n",
       "    <tr>\n",
       "      <th>46</th>\n",
       "      <td>Grouser_Type</td>\n",
       "      <td>4</td>\n",
       "      <td>0.000969</td>\n",
       "    </tr>\n",
       "    <tr>\n",
       "      <th>45</th>\n",
       "      <td>Pattern_Changer</td>\n",
       "      <td>4</td>\n",
       "      <td>0.000969</td>\n",
       "    </tr>\n",
       "    <tr>\n",
       "      <th>44</th>\n",
       "      <td>Thumb</td>\n",
       "      <td>4</td>\n",
       "      <td>0.000969</td>\n",
       "    </tr>\n",
       "    <tr>\n",
       "      <th>35</th>\n",
       "      <td>Tip_Control</td>\n",
       "      <td>4</td>\n",
       "      <td>0.000969</td>\n",
       "    </tr>\n",
       "    <tr>\n",
       "      <th>8</th>\n",
       "      <td>UsageBand</td>\n",
       "      <td>4</td>\n",
       "      <td>0.000969</td>\n",
       "    </tr>\n",
       "    <tr>\n",
       "      <th>23</th>\n",
       "      <td>Ride_Control</td>\n",
       "      <td>4</td>\n",
       "      <td>0.000969</td>\n",
       "    </tr>\n",
       "    <tr>\n",
       "      <th>37</th>\n",
       "      <td>Coupler</td>\n",
       "      <td>4</td>\n",
       "      <td>0.000969</td>\n",
       "    </tr>\n",
       "    <tr>\n",
       "      <th>40</th>\n",
       "      <td>Hydraulics_Flow</td>\n",
       "      <td>4</td>\n",
       "      <td>0.000969</td>\n",
       "    </tr>\n",
       "    <tr>\n",
       "      <th>29</th>\n",
       "      <td>Enclosure_Type</td>\n",
       "      <td>4</td>\n",
       "      <td>0.000969</td>\n",
       "    </tr>\n",
       "    <tr>\n",
       "      <th>41</th>\n",
       "      <td>Track_Type</td>\n",
       "      <td>3</td>\n",
       "      <td>0.000727</td>\n",
       "    </tr>\n",
       "    <tr>\n",
       "      <th>27</th>\n",
       "      <td>Blade_Extension</td>\n",
       "      <td>3</td>\n",
       "      <td>0.000727</td>\n",
       "    </tr>\n",
       "    <tr>\n",
       "      <th>21</th>\n",
       "      <td>Forks</td>\n",
       "      <td>3</td>\n",
       "      <td>0.000727</td>\n",
       "    </tr>\n",
       "    <tr>\n",
       "      <th>26</th>\n",
       "      <td>Turbocharged</td>\n",
       "      <td>3</td>\n",
       "      <td>0.000727</td>\n",
       "    </tr>\n",
       "    <tr>\n",
       "      <th>24</th>\n",
       "      <td>Stick</td>\n",
       "      <td>3</td>\n",
       "      <td>0.000727</td>\n",
       "    </tr>\n",
       "    <tr>\n",
       "      <th>30</th>\n",
       "      <td>Engine_Horsepower</td>\n",
       "      <td>3</td>\n",
       "      <td>0.000727</td>\n",
       "    </tr>\n",
       "    <tr>\n",
       "      <th>34</th>\n",
       "      <td>Scarifier</td>\n",
       "      <td>3</td>\n",
       "      <td>0.000727</td>\n",
       "    </tr>\n",
       "    <tr>\n",
       "      <th>47</th>\n",
       "      <td>Backhoe_Mounting</td>\n",
       "      <td>3</td>\n",
       "      <td>0.000727</td>\n",
       "    </tr>\n",
       "    <tr>\n",
       "      <th>38</th>\n",
       "      <td>Coupler_System</td>\n",
       "      <td>3</td>\n",
       "      <td>0.000727</td>\n",
       "    </tr>\n",
       "    <tr>\n",
       "      <th>39</th>\n",
       "      <td>Grouser_Tracks</td>\n",
       "      <td>3</td>\n",
       "      <td>0.000727</td>\n",
       "    </tr>\n",
       "    <tr>\n",
       "      <th>32</th>\n",
       "      <td>Pushblock</td>\n",
       "      <td>3</td>\n",
       "      <td>0.000727</td>\n",
       "    </tr>\n",
       "    <tr>\n",
       "      <th>58</th>\n",
       "      <td>saleIs_month_end</td>\n",
       "      <td>2</td>\n",
       "      <td>0.000485</td>\n",
       "    </tr>\n",
       "    <tr>\n",
       "      <th>59</th>\n",
       "      <td>saleIs_month_start</td>\n",
       "      <td>2</td>\n",
       "      <td>0.000485</td>\n",
       "    </tr>\n",
       "    <tr>\n",
       "      <th>60</th>\n",
       "      <td>saleIs_quarter_end</td>\n",
       "      <td>2</td>\n",
       "      <td>0.000485</td>\n",
       "    </tr>\n",
       "    <tr>\n",
       "      <th>61</th>\n",
       "      <td>saleIs_quarter_start</td>\n",
       "      <td>2</td>\n",
       "      <td>0.000485</td>\n",
       "    </tr>\n",
       "    <tr>\n",
       "      <th>62</th>\n",
       "      <td>saleIs_year_end</td>\n",
       "      <td>2</td>\n",
       "      <td>0.000485</td>\n",
       "    </tr>\n",
       "    <tr>\n",
       "      <th>63</th>\n",
       "      <td>saleIs_year_start</td>\n",
       "      <td>2</td>\n",
       "      <td>0.000485</td>\n",
       "    </tr>\n",
       "  </tbody>\n",
       "</table>\n",
       "</div>"
      ],
      "text/plain": [
       "                      column uniques   uniques %\n",
       "0                    SalesID  412698  100.000000\n",
       "2                  MachineID  348808   84.518946\n",
       "7   MachineHoursCurrentMeter   15634    3.788242\n",
       "3                    ModelID    5281    1.279628\n",
       "9                fiModelDesc    5059    1.225836\n",
       "64               saleElapsed    4013    0.972382\n",
       "10               fiBaseModel    1961    0.475166\n",
       "1                  SalePrice     954    0.231162\n",
       "57             saleDayofyear     361    0.087473\n",
       "11           fiSecondaryDesc     178    0.043131\n",
       "13         fiModelDescriptor     141    0.034165\n",
       "12             fiModelSeries     124    0.030046\n",
       "15        fiProductClassDesc      74    0.017931\n",
       "6                   YearMade      71    0.017204\n",
       "16                     state      53    0.012842\n",
       "54                  saleWeek      53    0.012842\n",
       "5               auctioneerID      31    0.007512\n",
       "55                   saleDay      31    0.007512\n",
       "43              Stick_Length      30    0.007269\n",
       "52                  saleYear      24    0.005815\n",
       "42   Undercarriage_Pad_Width      20    0.004846\n",
       "36                 Tire_Size      18    0.004362\n",
       "31                Hydraulics      13    0.003150\n",
       "53                 saleMonth      12    0.002908\n",
       "48                Blade_Type      11    0.002665\n",
       "25              Transmission       9    0.002181\n",
       "49           Travel_Controls       8    0.001938\n",
       "28               Blade_Width       7    0.001696\n",
       "14               ProductSize       7    0.001696\n",
       "56             saleDayofweek       7    0.001696\n",
       "20                 Enclosure       7    0.001696\n",
       "17              ProductGroup       6    0.001454\n",
       "4                 datasource       6    0.001454\n",
       "18          ProductGroupDesc       6    0.001454\n",
       "51         Steering_Controls       6    0.001454\n",
       "50         Differential_Type       5    0.001212\n",
       "22                  Pad_Type       5    0.001212\n",
       "33                    Ripper       5    0.001212\n",
       "19              Drive_System       5    0.001212\n",
       "46              Grouser_Type       4    0.000969\n",
       "45           Pattern_Changer       4    0.000969\n",
       "44                     Thumb       4    0.000969\n",
       "35               Tip_Control       4    0.000969\n",
       "8                  UsageBand       4    0.000969\n",
       "23              Ride_Control       4    0.000969\n",
       "37                   Coupler       4    0.000969\n",
       "40           Hydraulics_Flow       4    0.000969\n",
       "29            Enclosure_Type       4    0.000969\n",
       "41                Track_Type       3    0.000727\n",
       "27           Blade_Extension       3    0.000727\n",
       "21                     Forks       3    0.000727\n",
       "26              Turbocharged       3    0.000727\n",
       "24                     Stick       3    0.000727\n",
       "30         Engine_Horsepower       3    0.000727\n",
       "34                 Scarifier       3    0.000727\n",
       "47          Backhoe_Mounting       3    0.000727\n",
       "38            Coupler_System       3    0.000727\n",
       "39            Grouser_Tracks       3    0.000727\n",
       "32                 Pushblock       3    0.000727\n",
       "58          saleIs_month_end       2    0.000485\n",
       "59        saleIs_month_start       2    0.000485\n",
       "60        saleIs_quarter_end       2    0.000485\n",
       "61      saleIs_quarter_start       2    0.000485\n",
       "62           saleIs_year_end       2    0.000485\n",
       "63         saleIs_year_start       2    0.000485"
      ]
     },
     "execution_count": 27,
     "metadata": {},
     "output_type": "execute_result"
    }
   ],
   "source": [
    "uniqueness(df=whole_df)"
   ]
  },
  {
   "cell_type": "code",
   "execution_count": 20,
   "metadata": {
    "ExecuteTime": {
     "end_time": "2020-05-30T15:03:00.162084Z",
     "start_time": "2020-05-30T15:03:00.146274Z"
    }
   },
   "outputs": [],
   "source": [
    "dep_var = 'SalePrice'"
   ]
  },
  {
   "cell_type": "code",
   "execution_count": 18,
   "metadata": {
    "ExecuteTime": {
     "end_time": "2020-05-30T15:01:42.571512Z",
     "start_time": "2020-05-30T15:01:42.555295Z"
    }
   },
   "outputs": [],
   "source": [
    "cont_vars_tpl = ('MachineHoursCurrentMeter', 'saleElapsed')"
   ]
  },
  {
   "cell_type": "code",
   "execution_count": 22,
   "metadata": {
    "ExecuteTime": {
     "end_time": "2020-05-30T15:05:13.898596Z",
     "start_time": "2020-05-30T15:05:13.882157Z"
    }
   },
   "outputs": [],
   "source": [
    "cat_vars_tpl = ('ModelID', 'datasource', 'auctioneerID', 'YearMade', 'UsageBand', 'fiModelDesc', \n",
    "                'fiBaseModel', 'fiSecondaryDesc', 'fiModelSeries', 'fiModelDescriptor', 'ProductSize', \n",
    "                'fiProductClassDesc', 'state', 'ProductGroup', 'ProductGroupDesc', 'Drive_System', \n",
    "                'Enclosure', 'Forks', 'Pad_Type', 'Ride_Control', 'Stick', 'Transmission', 'Turbocharged', \n",
    "                'Blade_Extension', 'Blade_Width', 'Enclosure_Type', 'Engine_Horsepower', 'Hydraulics', \n",
    "                'Pushblock', 'Ripper', 'Scarifier', 'Tip_Control', 'Tire_Size', 'Coupler', 'Coupler_System', \n",
    "                'Grouser_Tracks', 'Hydraulics_Flow', 'Track_Type', 'Undercarriage_Pad_Width', 'Stick_Length', \n",
    "                'Thumb', 'Pattern_Changer', 'Grouser_Type', 'Backhoe_Mounting', 'Blade_Type', 'Travel_Controls', \n",
    "                'Differential_Type', 'Steering_Controls', 'saleYear', 'saleMonth', 'saleWeek', 'saleDay', \n",
    "                'saleDayofweek', 'saleDayofyear', 'saleIs_month_end', 'saleIs_month_start', 'saleIs_quarter_end', \n",
    "                'saleIs_quarter_start', 'saleIs_year_end', 'saleIs_year_start')"
   ]
  },
  {
   "cell_type": "code",
   "execution_count": 23,
   "metadata": {
    "ExecuteTime": {
     "end_time": "2020-05-30T15:05:27.296476Z",
     "start_time": "2020-05-30T15:05:27.282106Z"
    }
   },
   "outputs": [],
   "source": [
    "cat_vars = list(cat_vars_tpl)\n",
    "cont_vars = list(cont_vars_tpl)\n",
    "all_vars = cat_vars + cont_vars"
   ]
  },
  {
   "cell_type": "code",
   "execution_count": 28,
   "metadata": {
    "ExecuteTime": {
     "end_time": "2020-05-30T15:07:13.943946Z",
     "start_time": "2020-05-30T15:07:13.929140Z"
    }
   },
   "outputs": [
    {
     "data": {
      "text/plain": [
       "['SalesID', 'MachineID']"
      ]
     },
     "execution_count": 28,
     "metadata": {},
     "output_type": "execute_result"
    }
   ],
   "source": [
    "list_diff(whole_df.columns, all_vars, [dep_var])"
   ]
  },
  {
   "cell_type": "markdown",
   "metadata": {},
   "source": [
    "'SalesID', 'MachineID' are too unique"
   ]
  },
  {
   "cell_type": "markdown",
   "metadata": {},
   "source": [
    "#### prepare"
   ]
  },
  {
   "cell_type": "code",
   "execution_count": 29,
   "metadata": {
    "ExecuteTime": {
     "end_time": "2020-05-30T15:07:28.458929Z",
     "start_time": "2020-05-30T15:07:27.987764Z"
    }
   },
   "outputs": [],
   "source": [
    "df = whole_df[all_vars + [dep_var]].copy()"
   ]
  },
  {
   "cell_type": "code",
   "execution_count": 30,
   "metadata": {
    "ExecuteTime": {
     "end_time": "2020-05-30T15:07:35.339689Z",
     "start_time": "2020-05-30T15:07:35.313221Z"
    }
   },
   "outputs": [],
   "source": [
    "df[f\"{dep_var}_orig\"] = df[f\"{dep_var}\"].copy()\n",
    "df[dep_var] = np.log(df[dep_var])"
   ]
  },
  {
   "cell_type": "code",
   "execution_count": 31,
   "metadata": {
    "ExecuteTime": {
     "end_time": "2020-05-30T15:07:56.130745Z",
     "start_time": "2020-05-30T15:07:56.088713Z"
    },
    "scrolled": false
   },
   "outputs": [
    {
     "data": {
      "text/html": [
       "<div>\n",
       "<style scoped>\n",
       "    .dataframe tbody tr th:only-of-type {\n",
       "        vertical-align: middle;\n",
       "    }\n",
       "\n",
       "    .dataframe tbody tr th {\n",
       "        vertical-align: top;\n",
       "    }\n",
       "\n",
       "    .dataframe thead th {\n",
       "        text-align: right;\n",
       "    }\n",
       "</style>\n",
       "<table border=\"1\" class=\"dataframe\">\n",
       "  <thead>\n",
       "    <tr style=\"text-align: right;\">\n",
       "      <th></th>\n",
       "      <th>259700</th>\n",
       "      <th>187906</th>\n",
       "      <th>408099</th>\n",
       "      <th>139560</th>\n",
       "      <th>220028</th>\n",
       "    </tr>\n",
       "  </thead>\n",
       "  <tbody>\n",
       "    <tr>\n",
       "      <th>ModelID</th>\n",
       "      <td>9548</td>\n",
       "      <td>4603</td>\n",
       "      <td>13575</td>\n",
       "      <td>4326</td>\n",
       "      <td>11618</td>\n",
       "    </tr>\n",
       "    <tr>\n",
       "      <th>datasource</th>\n",
       "      <td>132</td>\n",
       "      <td>132</td>\n",
       "      <td>149</td>\n",
       "      <td>132</td>\n",
       "      <td>132</td>\n",
       "    </tr>\n",
       "    <tr>\n",
       "      <th>auctioneerID</th>\n",
       "      <td>99</td>\n",
       "      <td>15</td>\n",
       "      <td>1</td>\n",
       "      <td>19</td>\n",
       "      <td>1</td>\n",
       "    </tr>\n",
       "    <tr>\n",
       "      <th>YearMade</th>\n",
       "      <td>1987</td>\n",
       "      <td>1992</td>\n",
       "      <td>2003</td>\n",
       "      <td>1997</td>\n",
       "      <td>2000</td>\n",
       "    </tr>\n",
       "    <tr>\n",
       "      <th>UsageBand</th>\n",
       "      <td>NaN</td>\n",
       "      <td>NaN</td>\n",
       "      <td>NaN</td>\n",
       "      <td>NaN</td>\n",
       "      <td>NaN</td>\n",
       "    </tr>\n",
       "    <tr>\n",
       "      <th>fiModelDesc</th>\n",
       "      <td>743</td>\n",
       "      <td>310D</td>\n",
       "      <td>950GII</td>\n",
       "      <td>IT14G</td>\n",
       "      <td>EX330LC5</td>\n",
       "    </tr>\n",
       "    <tr>\n",
       "      <th>fiBaseModel</th>\n",
       "      <td>743</td>\n",
       "      <td>310</td>\n",
       "      <td>950</td>\n",
       "      <td>IT14</td>\n",
       "      <td>EX330</td>\n",
       "    </tr>\n",
       "    <tr>\n",
       "      <th>fiSecondaryDesc</th>\n",
       "      <td>NaN</td>\n",
       "      <td>D</td>\n",
       "      <td>G</td>\n",
       "      <td>G</td>\n",
       "      <td>NaN</td>\n",
       "    </tr>\n",
       "    <tr>\n",
       "      <th>fiModelSeries</th>\n",
       "      <td>NaN</td>\n",
       "      <td>NaN</td>\n",
       "      <td>II</td>\n",
       "      <td>NaN</td>\n",
       "      <td>LC</td>\n",
       "    </tr>\n",
       "    <tr>\n",
       "      <th>fiModelDescriptor</th>\n",
       "      <td>NaN</td>\n",
       "      <td>NaN</td>\n",
       "      <td>NaN</td>\n",
       "      <td>NaN</td>\n",
       "      <td>5</td>\n",
       "    </tr>\n",
       "    <tr>\n",
       "      <th>ProductSize</th>\n",
       "      <td>NaN</td>\n",
       "      <td>NaN</td>\n",
       "      <td>Medium</td>\n",
       "      <td>NaN</td>\n",
       "      <td>Large / Medium</td>\n",
       "    </tr>\n",
       "    <tr>\n",
       "      <th>fiProductClassDesc</th>\n",
       "      <td>Skid Steer Loader - 1251.0 to 1351.0 Lb Operating Capacity</td>\n",
       "      <td>Backhoe Loader - 14.0 to 15.0 Ft Standard Digging Depth</td>\n",
       "      <td>Wheel Loader - 175.0 to 200.0 Horsepower</td>\n",
       "      <td>Wheel Loader - 90.0 to 100.0 Horsepower</td>\n",
       "      <td>Hydraulic Excavator, Track - 28.0 to 33.0 Metric Tons</td>\n",
       "    </tr>\n",
       "    <tr>\n",
       "      <th>state</th>\n",
       "      <td>Washington</td>\n",
       "      <td>Pennsylvania</td>\n",
       "      <td>Florida</td>\n",
       "      <td>California</td>\n",
       "      <td>Ohio</td>\n",
       "    </tr>\n",
       "    <tr>\n",
       "      <th>ProductGroup</th>\n",
       "      <td>SSL</td>\n",
       "      <td>BL</td>\n",
       "      <td>WL</td>\n",
       "      <td>WL</td>\n",
       "      <td>TEX</td>\n",
       "    </tr>\n",
       "    <tr>\n",
       "      <th>ProductGroupDesc</th>\n",
       "      <td>Skid Steer Loaders</td>\n",
       "      <td>Backhoe Loaders</td>\n",
       "      <td>Wheel Loader</td>\n",
       "      <td>Wheel Loader</td>\n",
       "      <td>Track Excavators</td>\n",
       "    </tr>\n",
       "    <tr>\n",
       "      <th>Drive_System</th>\n",
       "      <td>NaN</td>\n",
       "      <td>Four Wheel Drive</td>\n",
       "      <td>NaN</td>\n",
       "      <td>NaN</td>\n",
       "      <td>NaN</td>\n",
       "    </tr>\n",
       "    <tr>\n",
       "      <th>Enclosure</th>\n",
       "      <td>OROPS</td>\n",
       "      <td>EROPS</td>\n",
       "      <td>OROPS</td>\n",
       "      <td>EROPS</td>\n",
       "      <td>EROPS</td>\n",
       "    </tr>\n",
       "    <tr>\n",
       "      <th>Forks</th>\n",
       "      <td>None or Unspecified</td>\n",
       "      <td>None or Unspecified</td>\n",
       "      <td>Yes</td>\n",
       "      <td>Yes</td>\n",
       "      <td>NaN</td>\n",
       "    </tr>\n",
       "    <tr>\n",
       "      <th>Pad_Type</th>\n",
       "      <td>NaN</td>\n",
       "      <td>None or Unspecified</td>\n",
       "      <td>NaN</td>\n",
       "      <td>NaN</td>\n",
       "      <td>NaN</td>\n",
       "    </tr>\n",
       "    <tr>\n",
       "      <th>Ride_Control</th>\n",
       "      <td>NaN</td>\n",
       "      <td>No</td>\n",
       "      <td>None or Unspecified</td>\n",
       "      <td>Yes</td>\n",
       "      <td>NaN</td>\n",
       "    </tr>\n",
       "    <tr>\n",
       "      <th>Stick</th>\n",
       "      <td>NaN</td>\n",
       "      <td>Extended</td>\n",
       "      <td>NaN</td>\n",
       "      <td>NaN</td>\n",
       "      <td>NaN</td>\n",
       "    </tr>\n",
       "    <tr>\n",
       "      <th>Transmission</th>\n",
       "      <td>NaN</td>\n",
       "      <td>Powershuttle</td>\n",
       "      <td>NaN</td>\n",
       "      <td>NaN</td>\n",
       "      <td>NaN</td>\n",
       "    </tr>\n",
       "    <tr>\n",
       "      <th>Turbocharged</th>\n",
       "      <td>NaN</td>\n",
       "      <td>None or Unspecified</td>\n",
       "      <td>NaN</td>\n",
       "      <td>NaN</td>\n",
       "      <td>NaN</td>\n",
       "    </tr>\n",
       "    <tr>\n",
       "      <th>Blade_Extension</th>\n",
       "      <td>NaN</td>\n",
       "      <td>NaN</td>\n",
       "      <td>NaN</td>\n",
       "      <td>NaN</td>\n",
       "      <td>NaN</td>\n",
       "    </tr>\n",
       "    <tr>\n",
       "      <th>Blade_Width</th>\n",
       "      <td>NaN</td>\n",
       "      <td>NaN</td>\n",
       "      <td>NaN</td>\n",
       "      <td>NaN</td>\n",
       "      <td>NaN</td>\n",
       "    </tr>\n",
       "    <tr>\n",
       "      <th>Enclosure_Type</th>\n",
       "      <td>NaN</td>\n",
       "      <td>NaN</td>\n",
       "      <td>NaN</td>\n",
       "      <td>NaN</td>\n",
       "      <td>NaN</td>\n",
       "    </tr>\n",
       "    <tr>\n",
       "      <th>Engine_Horsepower</th>\n",
       "      <td>NaN</td>\n",
       "      <td>NaN</td>\n",
       "      <td>NaN</td>\n",
       "      <td>NaN</td>\n",
       "      <td>NaN</td>\n",
       "    </tr>\n",
       "    <tr>\n",
       "      <th>Hydraulics</th>\n",
       "      <td>Standard</td>\n",
       "      <td>NaN</td>\n",
       "      <td>2 Valve</td>\n",
       "      <td>3 Valve</td>\n",
       "      <td>Standard</td>\n",
       "    </tr>\n",
       "    <tr>\n",
       "      <th>Pushblock</th>\n",
       "      <td>NaN</td>\n",
       "      <td>NaN</td>\n",
       "      <td>NaN</td>\n",
       "      <td>NaN</td>\n",
       "      <td>NaN</td>\n",
       "    </tr>\n",
       "    <tr>\n",
       "      <th>Ripper</th>\n",
       "      <td>NaN</td>\n",
       "      <td>NaN</td>\n",
       "      <td>NaN</td>\n",
       "      <td>NaN</td>\n",
       "      <td>NaN</td>\n",
       "    </tr>\n",
       "    <tr>\n",
       "      <th>Scarifier</th>\n",
       "      <td>NaN</td>\n",
       "      <td>NaN</td>\n",
       "      <td>NaN</td>\n",
       "      <td>NaN</td>\n",
       "      <td>NaN</td>\n",
       "    </tr>\n",
       "    <tr>\n",
       "      <th>Tip_Control</th>\n",
       "      <td>NaN</td>\n",
       "      <td>NaN</td>\n",
       "      <td>NaN</td>\n",
       "      <td>NaN</td>\n",
       "      <td>NaN</td>\n",
       "    </tr>\n",
       "    <tr>\n",
       "      <th>Tire_Size</th>\n",
       "      <td>NaN</td>\n",
       "      <td>NaN</td>\n",
       "      <td>None or Unspecified</td>\n",
       "      <td>17.5</td>\n",
       "      <td>NaN</td>\n",
       "    </tr>\n",
       "    <tr>\n",
       "      <th>Coupler</th>\n",
       "      <td>None or Unspecified</td>\n",
       "      <td>NaN</td>\n",
       "      <td>Hydraulic</td>\n",
       "      <td>Manual</td>\n",
       "      <td>Manual</td>\n",
       "    </tr>\n",
       "    <tr>\n",
       "      <th>Coupler_System</th>\n",
       "      <td>None or Unspecified</td>\n",
       "      <td>NaN</td>\n",
       "      <td>NaN</td>\n",
       "      <td>NaN</td>\n",
       "      <td>NaN</td>\n",
       "    </tr>\n",
       "    <tr>\n",
       "      <th>Grouser_Tracks</th>\n",
       "      <td>None or Unspecified</td>\n",
       "      <td>NaN</td>\n",
       "      <td>NaN</td>\n",
       "      <td>NaN</td>\n",
       "      <td>NaN</td>\n",
       "    </tr>\n",
       "    <tr>\n",
       "      <th>Hydraulics_Flow</th>\n",
       "      <td>Standard</td>\n",
       "      <td>NaN</td>\n",
       "      <td>NaN</td>\n",
       "      <td>NaN</td>\n",
       "      <td>NaN</td>\n",
       "    </tr>\n",
       "    <tr>\n",
       "      <th>Track_Type</th>\n",
       "      <td>NaN</td>\n",
       "      <td>NaN</td>\n",
       "      <td>NaN</td>\n",
       "      <td>NaN</td>\n",
       "      <td>Steel</td>\n",
       "    </tr>\n",
       "    <tr>\n",
       "      <th>Undercarriage_Pad_Width</th>\n",
       "      <td>NaN</td>\n",
       "      <td>NaN</td>\n",
       "      <td>NaN</td>\n",
       "      <td>NaN</td>\n",
       "      <td>None or Unspecified</td>\n",
       "    </tr>\n",
       "    <tr>\n",
       "      <th>Stick_Length</th>\n",
       "      <td>NaN</td>\n",
       "      <td>NaN</td>\n",
       "      <td>NaN</td>\n",
       "      <td>NaN</td>\n",
       "      <td>None or Unspecified</td>\n",
       "    </tr>\n",
       "    <tr>\n",
       "      <th>Thumb</th>\n",
       "      <td>NaN</td>\n",
       "      <td>NaN</td>\n",
       "      <td>NaN</td>\n",
       "      <td>NaN</td>\n",
       "      <td>None or Unspecified</td>\n",
       "    </tr>\n",
       "    <tr>\n",
       "      <th>Pattern_Changer</th>\n",
       "      <td>NaN</td>\n",
       "      <td>NaN</td>\n",
       "      <td>NaN</td>\n",
       "      <td>NaN</td>\n",
       "      <td>None or Unspecified</td>\n",
       "    </tr>\n",
       "    <tr>\n",
       "      <th>Grouser_Type</th>\n",
       "      <td>NaN</td>\n",
       "      <td>NaN</td>\n",
       "      <td>NaN</td>\n",
       "      <td>NaN</td>\n",
       "      <td>Double</td>\n",
       "    </tr>\n",
       "    <tr>\n",
       "      <th>Backhoe_Mounting</th>\n",
       "      <td>NaN</td>\n",
       "      <td>NaN</td>\n",
       "      <td>NaN</td>\n",
       "      <td>NaN</td>\n",
       "      <td>NaN</td>\n",
       "    </tr>\n",
       "    <tr>\n",
       "      <th>Blade_Type</th>\n",
       "      <td>NaN</td>\n",
       "      <td>NaN</td>\n",
       "      <td>NaN</td>\n",
       "      <td>NaN</td>\n",
       "      <td>NaN</td>\n",
       "    </tr>\n",
       "    <tr>\n",
       "      <th>Travel_Controls</th>\n",
       "      <td>NaN</td>\n",
       "      <td>NaN</td>\n",
       "      <td>NaN</td>\n",
       "      <td>NaN</td>\n",
       "      <td>NaN</td>\n",
       "    </tr>\n",
       "    <tr>\n",
       "      <th>Differential_Type</th>\n",
       "      <td>NaN</td>\n",
       "      <td>NaN</td>\n",
       "      <td>Standard</td>\n",
       "      <td>Standard</td>\n",
       "      <td>NaN</td>\n",
       "    </tr>\n",
       "    <tr>\n",
       "      <th>Steering_Controls</th>\n",
       "      <td>NaN</td>\n",
       "      <td>NaN</td>\n",
       "      <td>Conventional</td>\n",
       "      <td>Conventional</td>\n",
       "      <td>NaN</td>\n",
       "    </tr>\n",
       "    <tr>\n",
       "      <th>saleYear</th>\n",
       "      <td>1995</td>\n",
       "      <td>2002</td>\n",
       "      <td>2012</td>\n",
       "      <td>2001</td>\n",
       "      <td>2005</td>\n",
       "    </tr>\n",
       "    <tr>\n",
       "      <th>saleMonth</th>\n",
       "      <td>12</td>\n",
       "      <td>11</td>\n",
       "      <td>2</td>\n",
       "      <td>11</td>\n",
       "      <td>4</td>\n",
       "    </tr>\n",
       "    <tr>\n",
       "      <th>saleWeek</th>\n",
       "      <td>49</td>\n",
       "      <td>45</td>\n",
       "      <td>7</td>\n",
       "      <td>45</td>\n",
       "      <td>14</td>\n",
       "    </tr>\n",
       "    <tr>\n",
       "      <th>saleDay</th>\n",
       "      <td>9</td>\n",
       "      <td>7</td>\n",
       "      <td>13</td>\n",
       "      <td>8</td>\n",
       "      <td>6</td>\n",
       "    </tr>\n",
       "    <tr>\n",
       "      <th>saleDayofweek</th>\n",
       "      <td>5</td>\n",
       "      <td>3</td>\n",
       "      <td>0</td>\n",
       "      <td>3</td>\n",
       "      <td>2</td>\n",
       "    </tr>\n",
       "    <tr>\n",
       "      <th>saleDayofyear</th>\n",
       "      <td>343</td>\n",
       "      <td>311</td>\n",
       "      <td>44</td>\n",
       "      <td>312</td>\n",
       "      <td>96</td>\n",
       "    </tr>\n",
       "    <tr>\n",
       "      <th>saleIs_month_end</th>\n",
       "      <td>False</td>\n",
       "      <td>False</td>\n",
       "      <td>False</td>\n",
       "      <td>False</td>\n",
       "      <td>False</td>\n",
       "    </tr>\n",
       "    <tr>\n",
       "      <th>saleIs_month_start</th>\n",
       "      <td>False</td>\n",
       "      <td>False</td>\n",
       "      <td>False</td>\n",
       "      <td>False</td>\n",
       "      <td>False</td>\n",
       "    </tr>\n",
       "    <tr>\n",
       "      <th>saleIs_quarter_end</th>\n",
       "      <td>False</td>\n",
       "      <td>False</td>\n",
       "      <td>False</td>\n",
       "      <td>False</td>\n",
       "      <td>False</td>\n",
       "    </tr>\n",
       "    <tr>\n",
       "      <th>saleIs_quarter_start</th>\n",
       "      <td>False</td>\n",
       "      <td>False</td>\n",
       "      <td>False</td>\n",
       "      <td>False</td>\n",
       "      <td>False</td>\n",
       "    </tr>\n",
       "    <tr>\n",
       "      <th>saleIs_year_end</th>\n",
       "      <td>False</td>\n",
       "      <td>False</td>\n",
       "      <td>False</td>\n",
       "      <td>False</td>\n",
       "      <td>False</td>\n",
       "    </tr>\n",
       "    <tr>\n",
       "      <th>saleIs_year_start</th>\n",
       "      <td>False</td>\n",
       "      <td>False</td>\n",
       "      <td>False</td>\n",
       "      <td>False</td>\n",
       "      <td>False</td>\n",
       "    </tr>\n",
       "    <tr>\n",
       "      <th>MachineHoursCurrentMeter</th>\n",
       "      <td>NaN</td>\n",
       "      <td>NaN</td>\n",
       "      <td>NaN</td>\n",
       "      <td>NaN</td>\n",
       "      <td>NaN</td>\n",
       "    </tr>\n",
       "    <tr>\n",
       "      <th>saleElapsed</th>\n",
       "      <td>818467200</td>\n",
       "      <td>1036627200</td>\n",
       "      <td>1329091200</td>\n",
       "      <td>1005177600</td>\n",
       "      <td>1112745600</td>\n",
       "    </tr>\n",
       "    <tr>\n",
       "      <th>SalePrice</th>\n",
       "      <td>8.92266</td>\n",
       "      <td>9.54681</td>\n",
       "      <td>11.4876</td>\n",
       "      <td>10.6919</td>\n",
       "      <td>11.5376</td>\n",
       "    </tr>\n",
       "    <tr>\n",
       "      <th>SalePrice_orig</th>\n",
       "      <td>7500</td>\n",
       "      <td>14000</td>\n",
       "      <td>97500</td>\n",
       "      <td>44000</td>\n",
       "      <td>102500</td>\n",
       "    </tr>\n",
       "  </tbody>\n",
       "</table>\n",
       "</div>"
      ],
      "text/plain": [
       "                                                                              259700  \\\n",
       "ModelID                                                                         9548   \n",
       "datasource                                                                       132   \n",
       "auctioneerID                                                                      99   \n",
       "YearMade                                                                        1987   \n",
       "UsageBand                                                                        NaN   \n",
       "fiModelDesc                                                                      743   \n",
       "fiBaseModel                                                                      743   \n",
       "fiSecondaryDesc                                                                  NaN   \n",
       "fiModelSeries                                                                    NaN   \n",
       "fiModelDescriptor                                                                NaN   \n",
       "ProductSize                                                                      NaN   \n",
       "fiProductClassDesc        Skid Steer Loader - 1251.0 to 1351.0 Lb Operating Capacity   \n",
       "state                                                                     Washington   \n",
       "ProductGroup                                                                     SSL   \n",
       "ProductGroupDesc                                                  Skid Steer Loaders   \n",
       "Drive_System                                                                     NaN   \n",
       "Enclosure                                                                      OROPS   \n",
       "Forks                                                            None or Unspecified   \n",
       "Pad_Type                                                                         NaN   \n",
       "Ride_Control                                                                     NaN   \n",
       "Stick                                                                            NaN   \n",
       "Transmission                                                                     NaN   \n",
       "Turbocharged                                                                     NaN   \n",
       "Blade_Extension                                                                  NaN   \n",
       "Blade_Width                                                                      NaN   \n",
       "Enclosure_Type                                                                   NaN   \n",
       "Engine_Horsepower                                                                NaN   \n",
       "Hydraulics                                                                  Standard   \n",
       "Pushblock                                                                        NaN   \n",
       "Ripper                                                                           NaN   \n",
       "Scarifier                                                                        NaN   \n",
       "Tip_Control                                                                      NaN   \n",
       "Tire_Size                                                                        NaN   \n",
       "Coupler                                                          None or Unspecified   \n",
       "Coupler_System                                                   None or Unspecified   \n",
       "Grouser_Tracks                                                   None or Unspecified   \n",
       "Hydraulics_Flow                                                             Standard   \n",
       "Track_Type                                                                       NaN   \n",
       "Undercarriage_Pad_Width                                                          NaN   \n",
       "Stick_Length                                                                     NaN   \n",
       "Thumb                                                                            NaN   \n",
       "Pattern_Changer                                                                  NaN   \n",
       "Grouser_Type                                                                     NaN   \n",
       "Backhoe_Mounting                                                                 NaN   \n",
       "Blade_Type                                                                       NaN   \n",
       "Travel_Controls                                                                  NaN   \n",
       "Differential_Type                                                                NaN   \n",
       "Steering_Controls                                                                NaN   \n",
       "saleYear                                                                        1995   \n",
       "saleMonth                                                                         12   \n",
       "saleWeek                                                                          49   \n",
       "saleDay                                                                            9   \n",
       "saleDayofweek                                                                      5   \n",
       "saleDayofyear                                                                    343   \n",
       "saleIs_month_end                                                               False   \n",
       "saleIs_month_start                                                             False   \n",
       "saleIs_quarter_end                                                             False   \n",
       "saleIs_quarter_start                                                           False   \n",
       "saleIs_year_end                                                                False   \n",
       "saleIs_year_start                                                              False   \n",
       "MachineHoursCurrentMeter                                                         NaN   \n",
       "saleElapsed                                                                818467200   \n",
       "SalePrice                                                                    8.92266   \n",
       "SalePrice_orig                                                                  7500   \n",
       "\n",
       "                                                                           187906  \\\n",
       "ModelID                                                                      4603   \n",
       "datasource                                                                    132   \n",
       "auctioneerID                                                                   15   \n",
       "YearMade                                                                     1992   \n",
       "UsageBand                                                                     NaN   \n",
       "fiModelDesc                                                                  310D   \n",
       "fiBaseModel                                                                   310   \n",
       "fiSecondaryDesc                                                                 D   \n",
       "fiModelSeries                                                                 NaN   \n",
       "fiModelDescriptor                                                             NaN   \n",
       "ProductSize                                                                   NaN   \n",
       "fiProductClassDesc        Backhoe Loader - 14.0 to 15.0 Ft Standard Digging Depth   \n",
       "state                                                                Pennsylvania   \n",
       "ProductGroup                                                                   BL   \n",
       "ProductGroupDesc                                                  Backhoe Loaders   \n",
       "Drive_System                                                     Four Wheel Drive   \n",
       "Enclosure                                                                   EROPS   \n",
       "Forks                                                         None or Unspecified   \n",
       "Pad_Type                                                      None or Unspecified   \n",
       "Ride_Control                                                                   No   \n",
       "Stick                                                                    Extended   \n",
       "Transmission                                                         Powershuttle   \n",
       "Turbocharged                                                  None or Unspecified   \n",
       "Blade_Extension                                                               NaN   \n",
       "Blade_Width                                                                   NaN   \n",
       "Enclosure_Type                                                                NaN   \n",
       "Engine_Horsepower                                                             NaN   \n",
       "Hydraulics                                                                    NaN   \n",
       "Pushblock                                                                     NaN   \n",
       "Ripper                                                                        NaN   \n",
       "Scarifier                                                                     NaN   \n",
       "Tip_Control                                                                   NaN   \n",
       "Tire_Size                                                                     NaN   \n",
       "Coupler                                                                       NaN   \n",
       "Coupler_System                                                                NaN   \n",
       "Grouser_Tracks                                                                NaN   \n",
       "Hydraulics_Flow                                                               NaN   \n",
       "Track_Type                                                                    NaN   \n",
       "Undercarriage_Pad_Width                                                       NaN   \n",
       "Stick_Length                                                                  NaN   \n",
       "Thumb                                                                         NaN   \n",
       "Pattern_Changer                                                               NaN   \n",
       "Grouser_Type                                                                  NaN   \n",
       "Backhoe_Mounting                                                              NaN   \n",
       "Blade_Type                                                                    NaN   \n",
       "Travel_Controls                                                               NaN   \n",
       "Differential_Type                                                             NaN   \n",
       "Steering_Controls                                                             NaN   \n",
       "saleYear                                                                     2002   \n",
       "saleMonth                                                                      11   \n",
       "saleWeek                                                                       45   \n",
       "saleDay                                                                         7   \n",
       "saleDayofweek                                                                   3   \n",
       "saleDayofyear                                                                 311   \n",
       "saleIs_month_end                                                            False   \n",
       "saleIs_month_start                                                          False   \n",
       "saleIs_quarter_end                                                          False   \n",
       "saleIs_quarter_start                                                        False   \n",
       "saleIs_year_end                                                             False   \n",
       "saleIs_year_start                                                           False   \n",
       "MachineHoursCurrentMeter                                                      NaN   \n",
       "saleElapsed                                                            1036627200   \n",
       "SalePrice                                                                 9.54681   \n",
       "SalePrice_orig                                                              14000   \n",
       "\n",
       "                                                            408099  \\\n",
       "ModelID                                                      13575   \n",
       "datasource                                                     149   \n",
       "auctioneerID                                                     1   \n",
       "YearMade                                                      2003   \n",
       "UsageBand                                                      NaN   \n",
       "fiModelDesc                                                 950GII   \n",
       "fiBaseModel                                                    950   \n",
       "fiSecondaryDesc                                                  G   \n",
       "fiModelSeries                                                   II   \n",
       "fiModelDescriptor                                              NaN   \n",
       "ProductSize                                                 Medium   \n",
       "fiProductClassDesc        Wheel Loader - 175.0 to 200.0 Horsepower   \n",
       "state                                                      Florida   \n",
       "ProductGroup                                                    WL   \n",
       "ProductGroupDesc                                      Wheel Loader   \n",
       "Drive_System                                                   NaN   \n",
       "Enclosure                                                    OROPS   \n",
       "Forks                                                          Yes   \n",
       "Pad_Type                                                       NaN   \n",
       "Ride_Control                                   None or Unspecified   \n",
       "Stick                                                          NaN   \n",
       "Transmission                                                   NaN   \n",
       "Turbocharged                                                   NaN   \n",
       "Blade_Extension                                                NaN   \n",
       "Blade_Width                                                    NaN   \n",
       "Enclosure_Type                                                 NaN   \n",
       "Engine_Horsepower                                              NaN   \n",
       "Hydraulics                                                 2 Valve   \n",
       "Pushblock                                                      NaN   \n",
       "Ripper                                                         NaN   \n",
       "Scarifier                                                      NaN   \n",
       "Tip_Control                                                    NaN   \n",
       "Tire_Size                                      None or Unspecified   \n",
       "Coupler                                                  Hydraulic   \n",
       "Coupler_System                                                 NaN   \n",
       "Grouser_Tracks                                                 NaN   \n",
       "Hydraulics_Flow                                                NaN   \n",
       "Track_Type                                                     NaN   \n",
       "Undercarriage_Pad_Width                                        NaN   \n",
       "Stick_Length                                                   NaN   \n",
       "Thumb                                                          NaN   \n",
       "Pattern_Changer                                                NaN   \n",
       "Grouser_Type                                                   NaN   \n",
       "Backhoe_Mounting                                               NaN   \n",
       "Blade_Type                                                     NaN   \n",
       "Travel_Controls                                                NaN   \n",
       "Differential_Type                                         Standard   \n",
       "Steering_Controls                                     Conventional   \n",
       "saleYear                                                      2012   \n",
       "saleMonth                                                        2   \n",
       "saleWeek                                                         7   \n",
       "saleDay                                                         13   \n",
       "saleDayofweek                                                    0   \n",
       "saleDayofyear                                                   44   \n",
       "saleIs_month_end                                             False   \n",
       "saleIs_month_start                                           False   \n",
       "saleIs_quarter_end                                           False   \n",
       "saleIs_quarter_start                                         False   \n",
       "saleIs_year_end                                              False   \n",
       "saleIs_year_start                                            False   \n",
       "MachineHoursCurrentMeter                                       NaN   \n",
       "saleElapsed                                             1329091200   \n",
       "SalePrice                                                  11.4876   \n",
       "SalePrice_orig                                               97500   \n",
       "\n",
       "                                                           139560  \\\n",
       "ModelID                                                      4326   \n",
       "datasource                                                    132   \n",
       "auctioneerID                                                   19   \n",
       "YearMade                                                     1997   \n",
       "UsageBand                                                     NaN   \n",
       "fiModelDesc                                                 IT14G   \n",
       "fiBaseModel                                                  IT14   \n",
       "fiSecondaryDesc                                                 G   \n",
       "fiModelSeries                                                 NaN   \n",
       "fiModelDescriptor                                             NaN   \n",
       "ProductSize                                                   NaN   \n",
       "fiProductClassDesc        Wheel Loader - 90.0 to 100.0 Horsepower   \n",
       "state                                                  California   \n",
       "ProductGroup                                                   WL   \n",
       "ProductGroupDesc                                     Wheel Loader   \n",
       "Drive_System                                                  NaN   \n",
       "Enclosure                                                   EROPS   \n",
       "Forks                                                         Yes   \n",
       "Pad_Type                                                      NaN   \n",
       "Ride_Control                                                  Yes   \n",
       "Stick                                                         NaN   \n",
       "Transmission                                                  NaN   \n",
       "Turbocharged                                                  NaN   \n",
       "Blade_Extension                                               NaN   \n",
       "Blade_Width                                                   NaN   \n",
       "Enclosure_Type                                                NaN   \n",
       "Engine_Horsepower                                             NaN   \n",
       "Hydraulics                                                3 Valve   \n",
       "Pushblock                                                     NaN   \n",
       "Ripper                                                        NaN   \n",
       "Scarifier                                                     NaN   \n",
       "Tip_Control                                                   NaN   \n",
       "Tire_Size                                                    17.5   \n",
       "Coupler                                                    Manual   \n",
       "Coupler_System                                                NaN   \n",
       "Grouser_Tracks                                                NaN   \n",
       "Hydraulics_Flow                                               NaN   \n",
       "Track_Type                                                    NaN   \n",
       "Undercarriage_Pad_Width                                       NaN   \n",
       "Stick_Length                                                  NaN   \n",
       "Thumb                                                         NaN   \n",
       "Pattern_Changer                                               NaN   \n",
       "Grouser_Type                                                  NaN   \n",
       "Backhoe_Mounting                                              NaN   \n",
       "Blade_Type                                                    NaN   \n",
       "Travel_Controls                                               NaN   \n",
       "Differential_Type                                        Standard   \n",
       "Steering_Controls                                    Conventional   \n",
       "saleYear                                                     2001   \n",
       "saleMonth                                                      11   \n",
       "saleWeek                                                       45   \n",
       "saleDay                                                         8   \n",
       "saleDayofweek                                                   3   \n",
       "saleDayofyear                                                 312   \n",
       "saleIs_month_end                                            False   \n",
       "saleIs_month_start                                          False   \n",
       "saleIs_quarter_end                                          False   \n",
       "saleIs_quarter_start                                        False   \n",
       "saleIs_year_end                                             False   \n",
       "saleIs_year_start                                           False   \n",
       "MachineHoursCurrentMeter                                      NaN   \n",
       "saleElapsed                                            1005177600   \n",
       "SalePrice                                                 10.6919   \n",
       "SalePrice_orig                                              44000   \n",
       "\n",
       "                                                                         220028  \n",
       "ModelID                                                                   11618  \n",
       "datasource                                                                  132  \n",
       "auctioneerID                                                                  1  \n",
       "YearMade                                                                   2000  \n",
       "UsageBand                                                                   NaN  \n",
       "fiModelDesc                                                            EX330LC5  \n",
       "fiBaseModel                                                               EX330  \n",
       "fiSecondaryDesc                                                             NaN  \n",
       "fiModelSeries                                                                LC  \n",
       "fiModelDescriptor                                                             5  \n",
       "ProductSize                                                      Large / Medium  \n",
       "fiProductClassDesc        Hydraulic Excavator, Track - 28.0 to 33.0 Metric Tons  \n",
       "state                                                                      Ohio  \n",
       "ProductGroup                                                                TEX  \n",
       "ProductGroupDesc                                               Track Excavators  \n",
       "Drive_System                                                                NaN  \n",
       "Enclosure                                                                 EROPS  \n",
       "Forks                                                                       NaN  \n",
       "Pad_Type                                                                    NaN  \n",
       "Ride_Control                                                                NaN  \n",
       "Stick                                                                       NaN  \n",
       "Transmission                                                                NaN  \n",
       "Turbocharged                                                                NaN  \n",
       "Blade_Extension                                                             NaN  \n",
       "Blade_Width                                                                 NaN  \n",
       "Enclosure_Type                                                              NaN  \n",
       "Engine_Horsepower                                                           NaN  \n",
       "Hydraulics                                                             Standard  \n",
       "Pushblock                                                                   NaN  \n",
       "Ripper                                                                      NaN  \n",
       "Scarifier                                                                   NaN  \n",
       "Tip_Control                                                                 NaN  \n",
       "Tire_Size                                                                   NaN  \n",
       "Coupler                                                                  Manual  \n",
       "Coupler_System                                                              NaN  \n",
       "Grouser_Tracks                                                              NaN  \n",
       "Hydraulics_Flow                                                             NaN  \n",
       "Track_Type                                                                Steel  \n",
       "Undercarriage_Pad_Width                                     None or Unspecified  \n",
       "Stick_Length                                                None or Unspecified  \n",
       "Thumb                                                       None or Unspecified  \n",
       "Pattern_Changer                                             None or Unspecified  \n",
       "Grouser_Type                                                             Double  \n",
       "Backhoe_Mounting                                                            NaN  \n",
       "Blade_Type                                                                  NaN  \n",
       "Travel_Controls                                                             NaN  \n",
       "Differential_Type                                                           NaN  \n",
       "Steering_Controls                                                           NaN  \n",
       "saleYear                                                                   2005  \n",
       "saleMonth                                                                     4  \n",
       "saleWeek                                                                     14  \n",
       "saleDay                                                                       6  \n",
       "saleDayofweek                                                                 2  \n",
       "saleDayofyear                                                                96  \n",
       "saleIs_month_end                                                          False  \n",
       "saleIs_month_start                                                        False  \n",
       "saleIs_quarter_end                                                        False  \n",
       "saleIs_quarter_start                                                      False  \n",
       "saleIs_year_end                                                           False  \n",
       "saleIs_year_start                                                         False  \n",
       "MachineHoursCurrentMeter                                                    NaN  \n",
       "saleElapsed                                                          1112745600  \n",
       "SalePrice                                                               11.5376  \n",
       "SalePrice_orig                                                           102500  "
      ]
     },
     "execution_count": 31,
     "metadata": {},
     "output_type": "execute_result"
    }
   ],
   "source": [
    "df.sample(5).T"
   ]
  },
  {
   "cell_type": "markdown",
   "metadata": {},
   "source": [
    "I use random split as it is more usefull for interpretation than lastX rows split"
   ]
  },
  {
   "cell_type": "code",
   "execution_count": 32,
   "metadata": {
    "ExecuteTime": {
     "end_time": "2020-05-30T15:10:23.576417Z",
     "start_time": "2020-05-30T15:10:23.464430Z"
    }
   },
   "outputs": [],
   "source": [
    "np.random.seed(1001)\n",
    "ln = len(df)\n",
    "valid_idx = np.random.choice(ln, int(ln*0.2), replace=False)\n",
    "train_idx = np.array(list_diff(list(range(ln)), valid_idx))"
   ]
  },
  {
   "cell_type": "code",
   "execution_count": 33,
   "metadata": {
    "ExecuteTime": {
     "end_time": "2020-05-30T15:10:31.949277Z",
     "start_time": "2020-05-30T15:10:31.920575Z"
    }
   },
   "outputs": [
    {
     "data": {
      "text/plain": [
       "((#82539) [408412,258097,182486,243268,90471,373353,194527,267451,191593,183350...],\n",
       " (#330159) [0,1,3,4,5,6,7,10,11,12...])"
      ]
     },
     "execution_count": 33,
     "metadata": {},
     "output_type": "execute_result"
    }
   ],
   "source": [
    "L(list(valid_idx)), L(list(train_idx))"
   ]
  },
  {
   "cell_type": "code",
   "execution_count": 34,
   "metadata": {
    "ExecuteTime": {
     "end_time": "2020-05-30T15:10:42.376669Z",
     "start_time": "2020-05-30T15:10:42.362349Z"
    }
   },
   "outputs": [],
   "source": [
    "procs=[FillMissing, Categorify, Normalize]"
   ]
  },
  {
   "cell_type": "code",
   "execution_count": 36,
   "metadata": {
    "ExecuteTime": {
     "end_time": "2020-05-30T15:12:07.588034Z",
     "start_time": "2020-05-30T15:12:07.569000Z"
    }
   },
   "outputs": [
    {
     "data": {
      "text/plain": [
       "(4750.0, 142000.0)"
      ]
     },
     "execution_count": 36,
     "metadata": {},
     "output_type": "execute_result"
    }
   ],
   "source": [
    "df[dep_var+\"_orig\"].min(), df[dep_var+\"_orig\"].max()"
   ]
  },
  {
   "cell_type": "code",
   "execution_count": 39,
   "metadata": {
    "ExecuteTime": {
     "end_time": "2020-05-30T15:13:45.130785Z",
     "start_time": "2020-05-30T15:13:45.095256Z"
    }
   },
   "outputs": [
    {
     "data": {
      "text/plain": [
       "tensor([ 7.0549, 14.2363], device='cuda:0')"
      ]
     },
     "execution_count": 39,
     "metadata": {},
     "output_type": "execute_result"
    }
   ],
   "source": [
    "min_log_y = np.min(df[dep_var])/1.2\n",
    "max_log_y = np.max(df[dep_var])*1.2\n",
    "y_range = torch.tensor([min_log_y, max_log_y], device=default_device())\n",
    "y_range"
   ]
  },
  {
   "cell_type": "code",
   "execution_count": 40,
   "metadata": {
    "ExecuteTime": {
     "end_time": "2020-05-30T15:14:08.727401Z",
     "start_time": "2020-05-30T15:14:08.709793Z"
    }
   },
   "outputs": [],
   "source": [
    "def exp_mmape(pred:Tensor, targ:Tensor):\n",
    "    \"Exp mean absolute percentage error between `pred` and `targ`.\"\n",
    "    pred,targ = flatten_check(pred,targ)\n",
    "    pred, targ = torch.exp(pred), torch.exp(targ)\n",
    "    pct_var = (targ - pred)/targ\n",
    "    return torch.abs(pct_var).mean()"
   ]
  },
  {
   "cell_type": "code",
   "execution_count": 41,
   "metadata": {
    "ExecuteTime": {
     "end_time": "2020-05-30T15:14:59.291292Z",
     "start_time": "2020-05-30T15:14:59.276821Z"
    }
   },
   "outputs": [],
   "source": [
    "BS = 512"
   ]
  },
  {
   "cell_type": "code",
   "execution_count": 50,
   "metadata": {
    "ExecuteTime": {
     "end_time": "2020-05-30T15:22:02.875839Z",
     "start_time": "2020-05-30T15:22:02.860414Z"
    }
   },
   "outputs": [],
   "source": [
    "layers = [1000,500]\n",
    "layers_drop = [0.07, 0.7]\n",
    "emb_drop = 0.7\n",
    "cycles = 10\n",
    "w_decay = 0.5\n",
    "max_lr = 1e-4"
   ]
  },
  {
   "cell_type": "code",
   "execution_count": 44,
   "metadata": {
    "ExecuteTime": {
     "end_time": "2020-05-30T15:16:52.347855Z",
     "start_time": "2020-05-30T15:16:37.689618Z"
    }
   },
   "outputs": [],
   "source": [
    "ds = TabularPandas(df=df,\n",
    "                  procs=procs,\n",
    "                  cat_names=cat_vars,\n",
    "                  cont_names=cont_vars,\n",
    "                  y_names=dep_var,\n",
    "                  y_block=RegressionBlock(),\n",
    "                  splits=(list(train_idx), list(valid_idx)),\n",
    "                  inplace=False,\n",
    "                  reduce_memory=False)"
   ]
  },
  {
   "cell_type": "code",
   "execution_count": 45,
   "metadata": {
    "ExecuteTime": {
     "end_time": "2020-05-30T15:16:54.209656Z",
     "start_time": "2020-05-30T15:16:54.150569Z"
    }
   },
   "outputs": [],
   "source": [
    "dls = ds.dataloaders(bs=BS)"
   ]
  },
  {
   "cell_type": "code",
   "execution_count": 48,
   "metadata": {
    "ExecuteTime": {
     "end_time": "2020-05-30T15:21:47.620982Z",
     "start_time": "2020-05-30T15:21:47.564728Z"
    }
   },
   "outputs": [],
   "source": [
    "np.random.seed(1001)\n",
    "learn = tabular_learner(dls=dls,\n",
    "                       layers=layers,\n",
    "                       ps=layers_drop,\n",
    "                       y_range=y_range, \n",
    "                       metrics=exp_mmape,\n",
    "                       wd=w_decay)"
   ]
  },
  {
   "cell_type": "code",
   "execution_count": 49,
   "metadata": {
    "ExecuteTime": {
     "end_time": "2020-05-30T15:21:51.518894Z",
     "start_time": "2020-05-30T15:21:49.246430Z"
    }
   },
   "outputs": [
    {
     "data": {
      "text/html": [],
      "text/plain": [
       "<IPython.core.display.HTML object>"
      ]
     },
     "metadata": {},
     "output_type": "display_data"
    },
    {
     "data": {
      "text/plain": [
       "SuggestedLRs(lr_min=0.00043651582673192023, lr_steep=0.0002290867705596611)"
      ]
     },
     "execution_count": 49,
     "metadata": {},
     "output_type": "execute_result"
    },
    {
     "data": {
      "image/png": "[encoded data removed]",
      "text/plain": [
       "<Figure size 432x288 with 1 Axes>"
      ]
     },
     "metadata": {
      "needs_background": "light"
     },
     "output_type": "display_data"
    }
   ],
   "source": [
    "learn.lr_find()"
   ]
  },
  {
   "cell_type": "code",
   "execution_count": 51,
   "metadata": {
    "ExecuteTime": {
     "end_time": "2020-05-30T15:22:20.539520Z",
     "start_time": "2020-05-30T15:22:20.525059Z"
    }
   },
   "outputs": [],
   "source": [
    "max_lr = 1e-4"
   ]
  },
  {
   "cell_type": "code",
   "execution_count": 52,
   "metadata": {
    "ExecuteTime": {
     "end_time": "2020-05-30T15:30:19.095884Z",
     "start_time": "2020-05-30T15:22:31.076908Z"
    }
   },
   "outputs": [
    {
     "data": {
      "text/html": [
       "<table border=\"1\" class=\"dataframe\">\n",
       "  <thead>\n",
       "    <tr style=\"text-align: left;\">\n",
       "      <th>epoch</th>\n",
       "      <th>train_loss</th>\n",
       "      <th>valid_loss</th>\n",
       "      <th>exp_mmape</th>\n",
       "      <th>time</th>\n",
       "    </tr>\n",
       "  </thead>\n",
       "  <tbody>\n",
       "    <tr>\n",
       "      <td>0</td>\n",
       "      <td>0.063193</td>\n",
       "      <td>0.065009</td>\n",
       "      <td>0.186616</td>\n",
       "      <td>00:46</td>\n",
       "    </tr>\n",
       "    <tr>\n",
       "      <td>1</td>\n",
       "      <td>0.057802</td>\n",
       "      <td>0.053963</td>\n",
       "      <td>0.184646</td>\n",
       "      <td>00:46</td>\n",
       "    </tr>\n",
       "    <tr>\n",
       "      <td>2</td>\n",
       "      <td>0.053710</td>\n",
       "      <td>0.050927</td>\n",
       "      <td>0.171305</td>\n",
       "      <td>00:46</td>\n",
       "    </tr>\n",
       "    <tr>\n",
       "      <td>3</td>\n",
       "      <td>0.050716</td>\n",
       "      <td>0.053298</td>\n",
       "      <td>0.188778</td>\n",
       "      <td>00:47</td>\n",
       "    </tr>\n",
       "    <tr>\n",
       "      <td>4</td>\n",
       "      <td>0.048593</td>\n",
       "      <td>0.047909</td>\n",
       "      <td>0.169234</td>\n",
       "      <td>00:46</td>\n",
       "    </tr>\n",
       "    <tr>\n",
       "      <td>5</td>\n",
       "      <td>0.046105</td>\n",
       "      <td>0.044367</td>\n",
       "      <td>0.159720</td>\n",
       "      <td>00:46</td>\n",
       "    </tr>\n",
       "    <tr>\n",
       "      <td>6</td>\n",
       "      <td>0.042858</td>\n",
       "      <td>0.042723</td>\n",
       "      <td>0.157587</td>\n",
       "      <td>00:46</td>\n",
       "    </tr>\n",
       "    <tr>\n",
       "      <td>7</td>\n",
       "      <td>0.037890</td>\n",
       "      <td>0.040462</td>\n",
       "      <td>0.152086</td>\n",
       "      <td>00:46</td>\n",
       "    </tr>\n",
       "    <tr>\n",
       "      <td>8</td>\n",
       "      <td>0.034181</td>\n",
       "      <td>0.038491</td>\n",
       "      <td>0.147917</td>\n",
       "      <td>00:46</td>\n",
       "    </tr>\n",
       "    <tr>\n",
       "      <td>9</td>\n",
       "      <td>0.029759</td>\n",
       "      <td>0.038430</td>\n",
       "      <td>0.147779</td>\n",
       "      <td>00:46</td>\n",
       "    </tr>\n",
       "  </tbody>\n",
       "</table>"
      ],
      "text/plain": [
       "<IPython.core.display.HTML object>"
      ]
     },
     "metadata": {},
     "output_type": "display_data"
    }
   ],
   "source": [
    "learn.fit_one_cycle(n_epoch=cycles, max_lr=max_lr, wd=w_decay)"
   ]
  },
  {
   "cell_type": "code",
   "execution_count": 65,
   "metadata": {
    "ExecuteTime": {
     "end_time": "2020-05-30T15:34:35.634436Z",
     "start_time": "2020-05-30T15:34:32.288955Z"
    }
   },
   "outputs": [
    {
     "data": {
      "text/html": [],
      "text/plain": [
       "<IPython.core.display.HTML object>"
      ]
     },
     "metadata": {},
     "output_type": "display_data"
    }
   ],
   "source": [
    "valid_preds = learn.get_preds()"
   ]
  },
  {
   "cell_type": "code",
   "execution_count": 78,
   "metadata": {
    "ExecuteTime": {
     "end_time": "2020-05-30T15:39:45.698429Z",
     "start_time": "2020-05-30T15:39:45.681515Z"
    }
   },
   "outputs": [
    {
     "data": {
      "text/plain": [
       "tensor(0.1478)"
      ]
     },
     "execution_count": 78,
     "metadata": {},
     "output_type": "execute_result"
    }
   ],
   "source": [
    "# my metric\n",
    "exp_mmape(valid_preds[0], valid_preds[1])"
   ]
  },
  {
   "cell_type": "code",
   "execution_count": 91,
   "metadata": {
    "ExecuteTime": {
     "end_time": "2020-05-30T15:49:00.700762Z",
     "start_time": "2020-05-30T15:49:00.685589Z"
    }
   },
   "outputs": [],
   "source": [
    "def rmse(y, y_pred):\n",
    "    return np.sqrt(mse(y, y_pred))"
   ]
  },
  {
   "cell_type": "code",
   "execution_count": 92,
   "metadata": {
    "ExecuteTime": {
     "end_time": "2020-05-30T15:49:04.165717Z",
     "start_time": "2020-05-30T15:49:04.149553Z"
    }
   },
   "outputs": [
    {
     "data": {
      "text/plain": [
       "tensor(0.1960)"
      ]
     },
     "execution_count": 92,
     "metadata": {},
     "output_type": "execute_result"
    }
   ],
   "source": [
    "# fastai2 course metric\n",
    "rmse(valid_preds[0], valid_preds[1])"
   ]
  },
  {
   "cell_type": "code",
   "execution_count": 88,
   "metadata": {
    "ExecuteTime": {
     "end_time": "2020-05-30T15:47:18.068295Z",
     "start_time": "2020-05-30T15:47:18.053587Z"
    }
   },
   "outputs": [],
   "source": [
    "def rmsle(y, y_pred):\n",
    "    return np.sqrt(msle(y, y_pred))"
   ]
  },
  {
   "cell_type": "code",
   "execution_count": 89,
   "metadata": {
    "ExecuteTime": {
     "end_time": "2020-05-30T15:47:20.717875Z",
     "start_time": "2020-05-30T15:47:20.701798Z"
    }
   },
   "outputs": [
    {
     "data": {
      "text/plain": [
       "tensor(0.1960)"
      ]
     },
     "execution_count": 89,
     "metadata": {},
     "output_type": "execute_result"
    }
   ],
   "source": [
    "# kaggle competition metric\n",
    "rmsle(np.exp(valid_preds[0]), np.exp(valid_preds[1]))"
   ]
  },
  {
   "cell_type": "code",
   "execution_count": 94,
   "metadata": {
    "ExecuteTime": {
     "end_time": "2020-05-30T15:55:17.170635Z",
     "start_time": "2020-05-30T15:55:17.156299Z"
    }
   },
   "outputs": [],
   "source": [
    "export_path = path/\"exports\""
   ]
  },
  {
   "cell_type": "code",
   "execution_count": 96,
   "metadata": {
    "ExecuteTime": {
     "end_time": "2020-05-30T15:56:26.778866Z",
     "start_time": "2020-05-30T15:56:26.244078Z"
    }
   },
   "outputs": [],
   "source": [
    "learn.export(export_path/\"dozers_1478\")"
   ]
  }
 ],
 "metadata": {
  "kernelspec": {
   "display_name": "Python 3",
   "language": "python",
   "name": "python3"
  },
  "language_info": {
   "codemirror_mode": {
    "name": "ipython",
    "version": 3
   },
   "file_extension": ".py",
   "mimetype": "text/x-python",
   "name": "python",
   "nbconvert_exporter": "python",
   "pygments_lexer": "ipython3",
   "version": "3.7.5"
  }
 },
 "nbformat": 4,
 "nbformat_minor": 2
}
