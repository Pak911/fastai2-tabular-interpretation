{
 "cells": [
  {
   "cell_type": "code",
   "execution_count": 1,
   "metadata": {
    "ExecuteTime": {
     "end_time": "2020-06-03T15:32:57.736008Z",
     "start_time": "2020-06-03T15:32:57.723423Z"
    }
   },
   "outputs": [],
   "source": [
    "%reload_ext autoreload\n",
    "%autoreload 2"
   ]
  },
  {
   "cell_type": "code",
   "execution_count": 2,
   "metadata": {
    "ExecuteTime": {
     "end_time": "2020-06-03T15:33:31.501265Z",
     "start_time": "2020-06-03T15:33:29.068943Z"
    }
   },
   "outputs": [],
   "source": [
    "from fastai2.tabular.all import *\n",
    "from fastai2.imports import *"
   ]
  },
  {
   "cell_type": "code",
   "execution_count": 3,
   "metadata": {
    "ExecuteTime": {
     "end_time": "2020-06-03T15:33:39.092264Z",
     "start_time": "2020-06-03T15:33:39.075972Z"
    }
   },
   "outputs": [],
   "source": [
    "from fastai2.layers import L1LossFlat"
   ]
  },
  {
   "cell_type": "code",
   "execution_count": 4,
   "metadata": {
    "ExecuteTime": {
     "end_time": "2020-06-03T15:33:58.902845Z",
     "start_time": "2020-06-03T15:33:58.887874Z"
    }
   },
   "outputs": [],
   "source": [
    "from utils import *"
   ]
  },
  {
   "cell_type": "code",
   "execution_count": 7,
   "metadata": {
    "ExecuteTime": {
     "end_time": "2020-06-03T15:36:17.645874Z",
     "start_time": "2020-06-03T15:36:17.632393Z"
    }
   },
   "outputs": [],
   "source": [
    "path=Path('ftbl-data')"
   ]
  },
  {
   "cell_type": "code",
   "execution_count": 10,
   "metadata": {
    "ExecuteTime": {
     "end_time": "2020-06-03T15:36:29.057639Z",
     "start_time": "2020-06-03T15:36:29.016143Z"
    }
   },
   "outputs": [],
   "source": [
    "whole_df = pd.read_pickle(path/'trans_over_1000_final.pkl')"
   ]
  },
  {
   "cell_type": "code",
   "execution_count": 11,
   "metadata": {
    "ExecuteTime": {
     "end_time": "2020-06-03T15:36:37.731553Z",
     "start_time": "2020-06-03T15:36:37.714043Z"
    }
   },
   "outputs": [],
   "source": [
    "cat_vars_tpl = ('season','trs_year','trs_month','trs_day','trs_till_deadline',\n",
    "            'contract_left_months', 'contract_left_years','age',\n",
    "            'is_midseason','is_loan','is_end_of_loan',\n",
    "            'nat_national_name','plr_position_main',\n",
    "            'plr_other_positions','plr_nationality_name',\n",
    "            'plr_other_nationality_name','plr_place_of_birth_country_name',\n",
    "            'plr_foot','plr_height','plr_player_agent','from_club_name','from_club_is_first_team',\n",
    "            'from_clb_place','from_clb_qualified_to','from_clb_is_champion','from_clb_is_cup_winner',\n",
    "            'from_clb_is_promoted','from_clb_lg_name','from_clb_lg_country','from_clb_lg_group',\n",
    "            'from_coach_name', 'from_sport_dir_name',\n",
    "            'to_club_name','to_club_is_first_team','to_clb_place','to_clb_qualified_to',\n",
    "            'to_clb_is_champion','to_clb_is_cup_winner','to_clb_is_promoted','to_clb_lg_name','to_clb_lg_country',\n",
    "            'to_clb_lg_group','to_coach_name', 'to_sport_dir_name',\n",
    "            'plr_position_0','plr_position_1','plr_position_2',\n",
    "            'stats_leag_name_0','stats_leag_grp_0','stats_leag_name_1','stats_leag_grp_1','stats_leag_name_2',\n",
    "            'stats_leag_grp_2')"
   ]
  },
  {
   "cell_type": "code",
   "execution_count": 12,
   "metadata": {
    "ExecuteTime": {
     "end_time": "2020-06-03T15:36:43.399814Z",
     "start_time": "2020-06-03T15:36:43.381269Z"
    }
   },
   "outputs": [],
   "source": [
    "cont_vars_tpl = ('nat_months_from_debut','nat_matches_played','nat_goals_scored','from_clb_pts_avg',\n",
    "             'from_clb_goals_diff_avg','to_clb_pts_avg','to_clb_goals_diff_avg','plr_apps_0',\n",
    "             'plr_apps_1','plr_apps_2','stats_made_goals_0','stats_conc_gols_0','stats_cards_0',\n",
    "             'stats_minutes_0','stats_team_points_0','stats_made_goals_1','stats_conc_gols_1',\n",
    "             'stats_cards_1','stats_minutes_1','stats_team_points_1','stats_made_goals_2',\n",
    "             'stats_conc_gols_2','stats_cards_2','stats_minutes_2','stats_team_points_2', 'pop_log1p')"
   ]
  },
  {
   "cell_type": "code",
   "execution_count": 13,
   "metadata": {
    "ExecuteTime": {
     "end_time": "2020-06-03T15:36:48.959082Z",
     "start_time": "2020-06-03T15:36:48.945153Z"
    }
   },
   "outputs": [],
   "source": [
    "cat_vars = list(cat_vars_tpl)\n",
    "cont_vars = list(cont_vars_tpl)\n",
    "all_vars = cat_vars + cont_vars"
   ]
  },
  {
   "cell_type": "markdown",
   "metadata": {},
   "source": [
    "#### prepare"
   ]
  },
  {
   "cell_type": "code",
   "execution_count": 14,
   "metadata": {
    "ExecuteTime": {
     "end_time": "2020-06-03T15:37:04.535789Z",
     "start_time": "2020-06-03T15:37:04.520494Z"
    }
   },
   "outputs": [
    {
     "data": {
      "text/plain": [
       "['player_name',\n",
       " 'market_value',\n",
       " 'fee',\n",
       " 'is_future_transfer',\n",
       " 'plr_place_of_birth_name']"
      ]
     },
     "execution_count": 14,
     "metadata": {},
     "output_type": "execute_result"
    }
   ],
   "source": [
    "list_diff(whole_df.columns, cat_vars, cont_vars)"
   ]
  },
  {
   "cell_type": "markdown",
   "metadata": {},
   "source": [
    "We throw away: effectively unique values ('player_name','plr_place_of_birth_name'), constants ('is_future_transfer' as we have no future transfers here anymore) or values we don't want to use now (transfermarkt's 'market_value')"
   ]
  },
  {
   "cell_type": "code",
   "execution_count": 15,
   "metadata": {
    "ExecuteTime": {
     "end_time": "2020-06-03T15:37:27.718194Z",
     "start_time": "2020-06-03T15:37:27.702203Z"
    }
   },
   "outputs": [],
   "source": [
    "dep_var = 'fee'"
   ]
  },
  {
   "cell_type": "code",
   "execution_count": 16,
   "metadata": {
    "ExecuteTime": {
     "end_time": "2020-06-03T15:37:33.755234Z",
     "start_time": "2020-06-03T15:37:33.716160Z"
    }
   },
   "outputs": [],
   "source": [
    "df = whole_df[all_vars + [dep_var]].copy()"
   ]
  },
  {
   "cell_type": "code",
   "execution_count": 17,
   "metadata": {
    "ExecuteTime": {
     "end_time": "2020-06-03T15:37:39.153235Z",
     "start_time": "2020-06-03T15:37:39.085480Z"
    }
   },
   "outputs": [],
   "source": [
    "df[f\"{dep_var}_orig\"] = df[f\"{dep_var}\"].copy()\n",
    "df[dep_var] = np.log(df[dep_var])"
   ]
  },
  {
   "cell_type": "code",
   "execution_count": 18,
   "metadata": {
    "ExecuteTime": {
     "end_time": "2020-06-03T15:37:45.099024Z",
     "start_time": "2020-06-03T15:37:45.081222Z"
    }
   },
   "outputs": [],
   "source": [
    "np.random.seed(1001)\n",
    "ln = len(df)\n",
    "valid_idx = np.random.choice(ln, int(ln*0.2), replace=False)\n",
    "train_idx = np.array(list_diff(list(range(ln)), valid_idx))"
   ]
  },
  {
   "cell_type": "code",
   "execution_count": 19,
   "metadata": {
    "ExecuteTime": {
     "end_time": "2020-06-03T15:37:49.287916Z",
     "start_time": "2020-06-03T15:37:49.268498Z"
    }
   },
   "outputs": [
    {
     "data": {
      "text/plain": [
       "((#1952) [3059,8006,4942,3346,9351,2891,5024,1180,6588,439...],\n",
       " (#7809) [0,1,2,3,4,5,7,8,9,11...])"
      ]
     },
     "execution_count": 19,
     "metadata": {},
     "output_type": "execute_result"
    }
   ],
   "source": [
    "L(list(valid_idx)), L(list(train_idx))"
   ]
  },
  {
   "cell_type": "code",
   "execution_count": 20,
   "metadata": {
    "ExecuteTime": {
     "end_time": "2020-06-03T15:37:54.830273Z",
     "start_time": "2020-06-03T15:37:54.816149Z"
    }
   },
   "outputs": [],
   "source": [
    "procs=[FillMissing, Categorify, Normalize]"
   ]
  },
  {
   "cell_type": "code",
   "execution_count": 21,
   "metadata": {
    "ExecuteTime": {
     "end_time": "2020-06-03T15:38:02.295142Z",
     "start_time": "2020-06-03T15:37:59.230142Z"
    }
   },
   "outputs": [
    {
     "data": {
      "text/plain": [
       "tensor([ 6.2146, 14.7725], device='cuda:0')"
      ]
     },
     "execution_count": 21,
     "metadata": {},
     "output_type": "execute_result"
    }
   ],
   "source": [
    "min_log_y = np.log(500)\n",
    "max_log_y = np.max(df[dep_var])*1.2\n",
    "y_range = torch.tensor([min_log_y, max_log_y], device=default_device())\n",
    "y_range"
   ]
  },
  {
   "cell_type": "code",
   "execution_count": 22,
   "metadata": {
    "ExecuteTime": {
     "end_time": "2020-06-03T15:38:08.189105Z",
     "start_time": "2020-06-03T15:38:08.163592Z"
    }
   },
   "outputs": [],
   "source": [
    "def exp_mmape(pred:Tensor, targ:Tensor):\n",
    "    \"Exp mean absolute percentage error between `pred` and `targ`.\"\n",
    "    pred,targ = flatten_check(pred,targ)\n",
    "    pred, targ = torch.exp(pred), torch.exp(targ)\n",
    "    pct_var = (targ - pred)/targ\n",
    "    return torch.abs(pct_var).mean()"
   ]
  },
  {
   "cell_type": "code",
   "execution_count": 23,
   "metadata": {
    "ExecuteTime": {
     "end_time": "2020-06-03T15:38:19.486155Z",
     "start_time": "2020-06-03T15:38:19.472216Z"
    }
   },
   "outputs": [],
   "source": [
    "BS = 128"
   ]
  },
  {
   "cell_type": "code",
   "execution_count": 24,
   "metadata": {
    "ExecuteTime": {
     "end_time": "2020-06-03T15:38:23.678631Z",
     "start_time": "2020-06-03T15:38:23.629358Z"
    }
   },
   "outputs": [],
   "source": [
    "layers = [1000,500]\n",
    "layers_drop = [0.07, 0.7]\n",
    "emb_drop = 0.7\n",
    "cycles = 40\n",
    "w_decay = 0.7\n",
    "max_lr = 1e-3"
   ]
  },
  {
   "cell_type": "code",
   "execution_count": 25,
   "metadata": {
    "ExecuteTime": {
     "end_time": "2020-06-03T15:38:29.189512Z",
     "start_time": "2020-06-03T15:38:28.152027Z"
    }
   },
   "outputs": [],
   "source": [
    "ds = TabularPandas(df=df,\n",
    "                  procs=procs,\n",
    "                  cat_names=cat_vars,\n",
    "                  cont_names=cont_vars,\n",
    "                  y_names=dep_var,\n",
    "                  y_block=RegressionBlock(),\n",
    "                  splits=(list(train_idx), list(valid_idx)),\n",
    "                  inplace=False,\n",
    "                  reduce_memory=False)"
   ]
  },
  {
   "cell_type": "code",
   "execution_count": 26,
   "metadata": {
    "ExecuteTime": {
     "end_time": "2020-06-03T15:38:33.193517Z",
     "start_time": "2020-06-03T15:38:33.136150Z"
    }
   },
   "outputs": [],
   "source": [
    "dls = ds.dataloaders(bs=BS)"
   ]
  },
  {
   "cell_type": "code",
   "execution_count": 27,
   "metadata": {
    "ExecuteTime": {
     "end_time": "2020-06-03T15:38:39.715899Z",
     "start_time": "2020-06-03T15:38:39.608195Z"
    }
   },
   "outputs": [],
   "source": [
    "np.random.seed(1001)\n",
    "learn = tabular_learner(dls=dls,\n",
    "                       layers=layers,\n",
    "                       ps=layers_drop,\n",
    "                       y_range=y_range, \n",
    "                       metrics=exp_mmape,\n",
    "                       loss_func=exp_mmape,\n",
    "                       wd=w_decay)"
   ]
  },
  {
   "cell_type": "code",
   "execution_count": 28,
   "metadata": {
    "ExecuteTime": {
     "end_time": "2020-06-03T15:38:51.538777Z",
     "start_time": "2020-06-03T15:38:48.928446Z"
    }
   },
   "outputs": [
    {
     "data": {
      "text/html": [],
      "text/plain": [
       "<IPython.core.display.HTML object>"
      ]
     },
     "metadata": {},
     "output_type": "display_data"
    },
    {
     "data": {
      "text/plain": [
       "SuggestedLRs(lr_min=0.2290867567062378, lr_steep=0.0006918309954926372)"
      ]
     },
     "execution_count": 28,
     "metadata": {},
     "output_type": "execute_result"
    },
    {
     "data": {
      "image/png": "[encoded data removed]",
      "text/plain": [
       "<Figure size 432x288 with 1 Axes>"
      ]
     },
     "metadata": {
      "needs_background": "light"
     },
     "output_type": "display_data"
    }
   ],
   "source": [
    "learn.lr_find()"
   ]
  },
  {
   "cell_type": "code",
   "execution_count": 29,
   "metadata": {
    "ExecuteTime": {
     "end_time": "2020-06-03T15:40:11.943162Z",
     "start_time": "2020-06-03T15:39:19.400649Z"
    }
   },
   "outputs": [
    {
     "data": {
      "text/html": [
       "<table border=\"1\" class=\"dataframe\">\n",
       "  <thead>\n",
       "    <tr style=\"text-align: left;\">\n",
       "      <th>epoch</th>\n",
       "      <th>train_loss</th>\n",
       "      <th>valid_loss</th>\n",
       "      <th>exp_mmape</th>\n",
       "      <th>time</th>\n",
       "    </tr>\n",
       "  </thead>\n",
       "  <tbody>\n",
       "    <tr>\n",
       "      <td>0</td>\n",
       "      <td>5.004932</td>\n",
       "      <td>7.428215</td>\n",
       "      <td>7.428215</td>\n",
       "      <td>00:01</td>\n",
       "    </tr>\n",
       "    <tr>\n",
       "      <td>1</td>\n",
       "      <td>1.581562</td>\n",
       "      <td>0.516851</td>\n",
       "      <td>0.516851</td>\n",
       "      <td>00:01</td>\n",
       "    </tr>\n",
       "    <tr>\n",
       "      <td>2</td>\n",
       "      <td>0.716264</td>\n",
       "      <td>0.526602</td>\n",
       "      <td>0.526602</td>\n",
       "      <td>00:01</td>\n",
       "    </tr>\n",
       "    <tr>\n",
       "      <td>3</td>\n",
       "      <td>0.440615</td>\n",
       "      <td>0.508337</td>\n",
       "      <td>0.508337</td>\n",
       "      <td>00:01</td>\n",
       "    </tr>\n",
       "    <tr>\n",
       "      <td>4</td>\n",
       "      <td>0.362725</td>\n",
       "      <td>0.506861</td>\n",
       "      <td>0.506861</td>\n",
       "      <td>00:01</td>\n",
       "    </tr>\n",
       "    <tr>\n",
       "      <td>5</td>\n",
       "      <td>0.361564</td>\n",
       "      <td>0.487077</td>\n",
       "      <td>0.487077</td>\n",
       "      <td>00:01</td>\n",
       "    </tr>\n",
       "    <tr>\n",
       "      <td>6</td>\n",
       "      <td>0.382285</td>\n",
       "      <td>0.534076</td>\n",
       "      <td>0.534076</td>\n",
       "      <td>00:01</td>\n",
       "    </tr>\n",
       "    <tr>\n",
       "      <td>7</td>\n",
       "      <td>0.403187</td>\n",
       "      <td>0.514997</td>\n",
       "      <td>0.514997</td>\n",
       "      <td>00:01</td>\n",
       "    </tr>\n",
       "    <tr>\n",
       "      <td>8</td>\n",
       "      <td>0.405154</td>\n",
       "      <td>0.504891</td>\n",
       "      <td>0.504891</td>\n",
       "      <td>00:01</td>\n",
       "    </tr>\n",
       "    <tr>\n",
       "      <td>9</td>\n",
       "      <td>0.395371</td>\n",
       "      <td>0.483766</td>\n",
       "      <td>0.483766</td>\n",
       "      <td>00:01</td>\n",
       "    </tr>\n",
       "    <tr>\n",
       "      <td>10</td>\n",
       "      <td>0.363168</td>\n",
       "      <td>0.501054</td>\n",
       "      <td>0.501054</td>\n",
       "      <td>00:01</td>\n",
       "    </tr>\n",
       "    <tr>\n",
       "      <td>11</td>\n",
       "      <td>0.335397</td>\n",
       "      <td>0.487427</td>\n",
       "      <td>0.487427</td>\n",
       "      <td>00:01</td>\n",
       "    </tr>\n",
       "    <tr>\n",
       "      <td>12</td>\n",
       "      <td>0.311308</td>\n",
       "      <td>0.492860</td>\n",
       "      <td>0.492860</td>\n",
       "      <td>00:01</td>\n",
       "    </tr>\n",
       "    <tr>\n",
       "      <td>13</td>\n",
       "      <td>0.295835</td>\n",
       "      <td>0.450454</td>\n",
       "      <td>0.450454</td>\n",
       "      <td>00:01</td>\n",
       "    </tr>\n",
       "    <tr>\n",
       "      <td>14</td>\n",
       "      <td>0.287658</td>\n",
       "      <td>0.473366</td>\n",
       "      <td>0.473366</td>\n",
       "      <td>00:01</td>\n",
       "    </tr>\n",
       "    <tr>\n",
       "      <td>15</td>\n",
       "      <td>0.277609</td>\n",
       "      <td>0.498784</td>\n",
       "      <td>0.498784</td>\n",
       "      <td>00:01</td>\n",
       "    </tr>\n",
       "    <tr>\n",
       "      <td>16</td>\n",
       "      <td>0.269587</td>\n",
       "      <td>0.468537</td>\n",
       "      <td>0.468537</td>\n",
       "      <td>00:01</td>\n",
       "    </tr>\n",
       "    <tr>\n",
       "      <td>17</td>\n",
       "      <td>0.255236</td>\n",
       "      <td>0.466537</td>\n",
       "      <td>0.466537</td>\n",
       "      <td>00:01</td>\n",
       "    </tr>\n",
       "    <tr>\n",
       "      <td>18</td>\n",
       "      <td>0.244720</td>\n",
       "      <td>0.492484</td>\n",
       "      <td>0.492484</td>\n",
       "      <td>00:01</td>\n",
       "    </tr>\n",
       "    <tr>\n",
       "      <td>19</td>\n",
       "      <td>0.233104</td>\n",
       "      <td>0.504406</td>\n",
       "      <td>0.504406</td>\n",
       "      <td>00:01</td>\n",
       "    </tr>\n",
       "    <tr>\n",
       "      <td>20</td>\n",
       "      <td>0.222613</td>\n",
       "      <td>0.510601</td>\n",
       "      <td>0.510601</td>\n",
       "      <td>00:01</td>\n",
       "    </tr>\n",
       "    <tr>\n",
       "      <td>21</td>\n",
       "      <td>0.216354</td>\n",
       "      <td>0.482866</td>\n",
       "      <td>0.482866</td>\n",
       "      <td>00:01</td>\n",
       "    </tr>\n",
       "    <tr>\n",
       "      <td>22</td>\n",
       "      <td>0.198481</td>\n",
       "      <td>0.501129</td>\n",
       "      <td>0.501129</td>\n",
       "      <td>00:01</td>\n",
       "    </tr>\n",
       "    <tr>\n",
       "      <td>23</td>\n",
       "      <td>0.185743</td>\n",
       "      <td>0.518851</td>\n",
       "      <td>0.518851</td>\n",
       "      <td>00:01</td>\n",
       "    </tr>\n",
       "    <tr>\n",
       "      <td>24</td>\n",
       "      <td>0.172071</td>\n",
       "      <td>0.475695</td>\n",
       "      <td>0.475695</td>\n",
       "      <td>00:01</td>\n",
       "    </tr>\n",
       "    <tr>\n",
       "      <td>25</td>\n",
       "      <td>0.163157</td>\n",
       "      <td>0.485729</td>\n",
       "      <td>0.485729</td>\n",
       "      <td>00:01</td>\n",
       "    </tr>\n",
       "    <tr>\n",
       "      <td>26</td>\n",
       "      <td>0.152906</td>\n",
       "      <td>0.470690</td>\n",
       "      <td>0.470690</td>\n",
       "      <td>00:01</td>\n",
       "    </tr>\n",
       "    <tr>\n",
       "      <td>27</td>\n",
       "      <td>0.141062</td>\n",
       "      <td>0.493615</td>\n",
       "      <td>0.493615</td>\n",
       "      <td>00:01</td>\n",
       "    </tr>\n",
       "    <tr>\n",
       "      <td>28</td>\n",
       "      <td>0.132119</td>\n",
       "      <td>0.474597</td>\n",
       "      <td>0.474597</td>\n",
       "      <td>00:01</td>\n",
       "    </tr>\n",
       "    <tr>\n",
       "      <td>29</td>\n",
       "      <td>0.119716</td>\n",
       "      <td>0.478520</td>\n",
       "      <td>0.478520</td>\n",
       "      <td>00:01</td>\n",
       "    </tr>\n",
       "    <tr>\n",
       "      <td>30</td>\n",
       "      <td>0.109801</td>\n",
       "      <td>0.500951</td>\n",
       "      <td>0.500951</td>\n",
       "      <td>00:01</td>\n",
       "    </tr>\n",
       "    <tr>\n",
       "      <td>31</td>\n",
       "      <td>0.098019</td>\n",
       "      <td>0.493374</td>\n",
       "      <td>0.493374</td>\n",
       "      <td>00:01</td>\n",
       "    </tr>\n",
       "    <tr>\n",
       "      <td>32</td>\n",
       "      <td>0.089969</td>\n",
       "      <td>0.470920</td>\n",
       "      <td>0.470920</td>\n",
       "      <td>00:01</td>\n",
       "    </tr>\n",
       "    <tr>\n",
       "      <td>33</td>\n",
       "      <td>0.082493</td>\n",
       "      <td>0.485729</td>\n",
       "      <td>0.485729</td>\n",
       "      <td>00:01</td>\n",
       "    </tr>\n",
       "    <tr>\n",
       "      <td>34</td>\n",
       "      <td>0.078680</td>\n",
       "      <td>0.481054</td>\n",
       "      <td>0.481054</td>\n",
       "      <td>00:01</td>\n",
       "    </tr>\n",
       "    <tr>\n",
       "      <td>35</td>\n",
       "      <td>0.070862</td>\n",
       "      <td>0.489496</td>\n",
       "      <td>0.489496</td>\n",
       "      <td>00:01</td>\n",
       "    </tr>\n",
       "    <tr>\n",
       "      <td>36</td>\n",
       "      <td>0.062660</td>\n",
       "      <td>0.488235</td>\n",
       "      <td>0.488235</td>\n",
       "      <td>00:01</td>\n",
       "    </tr>\n",
       "    <tr>\n",
       "      <td>37</td>\n",
       "      <td>0.059645</td>\n",
       "      <td>0.489242</td>\n",
       "      <td>0.489242</td>\n",
       "      <td>00:01</td>\n",
       "    </tr>\n",
       "    <tr>\n",
       "      <td>38</td>\n",
       "      <td>0.059661</td>\n",
       "      <td>0.480625</td>\n",
       "      <td>0.480625</td>\n",
       "      <td>00:01</td>\n",
       "    </tr>\n",
       "    <tr>\n",
       "      <td>39</td>\n",
       "      <td>0.058144</td>\n",
       "      <td>0.483491</td>\n",
       "      <td>0.483491</td>\n",
       "      <td>00:01</td>\n",
       "    </tr>\n",
       "  </tbody>\n",
       "</table>"
      ],
      "text/plain": [
       "<IPython.core.display.HTML object>"
      ]
     },
     "metadata": {},
     "output_type": "display_data"
    }
   ],
   "source": [
    "learn.fit_one_cycle(n_epoch=cycles, max_lr=max_lr, wd=w_decay)"
   ]
  },
  {
   "cell_type": "code",
   "execution_count": 30,
   "metadata": {
    "ExecuteTime": {
     "end_time": "2020-06-03T15:40:43.039162Z",
     "start_time": "2020-06-03T15:40:43.024671Z"
    }
   },
   "outputs": [],
   "source": [
    "export_path = path/\"exports\""
   ]
  },
  {
   "cell_type": "code",
   "execution_count": 31,
   "metadata": {
    "ExecuteTime": {
     "end_time": "2020-06-03T15:41:01.746399Z",
     "start_time": "2020-06-03T15:41:01.608079Z"
    }
   },
   "outputs": [],
   "source": [
    "learn.export(export_path/\"ftbl_483_mean\")"
   ]
  },
  {
   "cell_type": "markdown",
   "metadata": {},
   "source": [
    "#### Compare with transfermarkt"
   ]
  },
  {
   "cell_type": "code",
   "execution_count": 43,
   "metadata": {
    "ExecuteTime": {
     "end_time": "2020-06-03T15:44:11.135687Z",
     "start_time": "2020-06-03T15:44:11.120861Z"
    }
   },
   "outputs": [],
   "source": [
    "def get_error(pred, targ):\n",
    "    acc = exp_mmape(pred=tensor(pred).double(), targ=tensor(targ).double())\n",
    "    return int(float(acc)*100)"
   ]
  },
  {
   "cell_type": "code",
   "execution_count": 33,
   "metadata": {
    "ExecuteTime": {
     "end_time": "2020-06-03T15:42:39.313728Z",
     "start_time": "2020-06-03T15:42:39.297139Z"
    }
   },
   "outputs": [],
   "source": [
    "valid_df = whole_df.iloc[valid_idx]"
   ]
  },
  {
   "cell_type": "code",
   "execution_count": 36,
   "metadata": {
    "ExecuteTime": {
     "end_time": "2020-06-03T15:43:08.170179Z",
     "start_time": "2020-06-03T15:43:08.152504Z"
    }
   },
   "outputs": [],
   "source": [
    "valid_df_no_loans = valid_df.query('is_loan == False')"
   ]
  },
  {
   "cell_type": "code",
   "execution_count": 37,
   "metadata": {
    "ExecuteTime": {
     "end_time": "2020-06-03T15:43:17.614983Z",
     "start_time": "2020-06-03T15:43:17.600449Z"
    }
   },
   "outputs": [],
   "source": [
    "actuals_l = np.array(np.log1p(valid_df_no_loans['fee']))"
   ]
  },
  {
   "cell_type": "code",
   "execution_count": 38,
   "metadata": {
    "ExecuteTime": {
     "end_time": "2020-06-03T15:43:25.086898Z",
     "start_time": "2020-06-03T15:43:25.072611Z"
    }
   },
   "outputs": [],
   "source": [
    "tm_preds_l =  np.array(np.log1p(valid_df_no_loans['market_value']))"
   ]
  },
  {
   "cell_type": "code",
   "execution_count": 39,
   "metadata": {
    "ExecuteTime": {
     "end_time": "2020-06-03T15:43:38.602514Z",
     "start_time": "2020-06-03T15:43:38.304667Z"
    }
   },
   "outputs": [
    {
     "data": {
      "text/html": [],
      "text/plain": [
       "<IPython.core.display.HTML object>"
      ]
     },
     "metadata": {},
     "output_type": "display_data"
    }
   ],
   "source": [
    "dl = learn.dls.test_dl(valid_df_no_loans)\n",
    "model_preds_l = np.array(learn.get_preds(dl=dl)[0].T[0])"
   ]
  },
  {
   "cell_type": "code",
   "execution_count": 40,
   "metadata": {
    "ExecuteTime": {
     "end_time": "2020-06-03T15:43:48.275587Z",
     "start_time": "2020-06-03T15:43:48.254873Z"
    }
   },
   "outputs": [
    {
     "data": {
      "text/plain": [
       "347"
      ]
     },
     "execution_count": 40,
     "metadata": {},
     "output_type": "execute_result"
    }
   ],
   "source": [
    "nan_idx = np.argwhere(np.isnan(tm_preds_l))\n",
    "correct_idx = list_diff(range(0,len(actuals_l)), list(nan_idx.T[0]))\n",
    "len(nan_idx)"
   ]
  },
  {
   "cell_type": "code",
   "execution_count": 41,
   "metadata": {
    "ExecuteTime": {
     "end_time": "2020-06-03T15:43:53.889054Z",
     "start_time": "2020-06-03T15:43:53.874654Z"
    }
   },
   "outputs": [],
   "source": [
    "actuals_l = actuals_l[correct_idx]\n",
    "tm_preds_l = tm_preds_l[correct_idx]\n",
    "model_preds_l = model_preds_l[correct_idx]"
   ]
  },
  {
   "cell_type": "code",
   "execution_count": 44,
   "metadata": {
    "ExecuteTime": {
     "end_time": "2020-06-03T15:44:15.526155Z",
     "start_time": "2020-06-03T15:44:15.497084Z"
    }
   },
   "outputs": [],
   "source": [
    "tm_error = get_error(pred=tm_preds_l, targ=actuals_l)\n",
    "model_error = get_error(pred=model_preds_l, targ=actuals_l)"
   ]
  },
  {
   "cell_type": "code",
   "execution_count": 45,
   "metadata": {
    "ExecuteTime": {
     "end_time": "2020-06-03T15:44:24.820342Z",
     "start_time": "2020-06-03T15:44:24.799321Z"
    }
   },
   "outputs": [
    {
     "data": {
      "text/plain": [
       "{'transfermarkt': 47, 'model': 46}"
      ]
     },
     "execution_count": 45,
     "metadata": {},
     "output_type": "execute_result"
    }
   ],
   "source": [
    "results = {'transfermarkt':tm_error, 'model':model_error}\n",
    "results"
   ]
  },
  {
   "cell_type": "code",
   "execution_count": 47,
   "metadata": {
    "ExecuteTime": {
     "end_time": "2020-06-03T15:44:36.836824Z",
     "start_time": "2020-06-03T15:44:36.744945Z"
    }
   },
   "outputs": [
    {
     "data": {
      "text/plain": [
       "<matplotlib.axes._subplots.AxesSubplot at 0x7ff6110c3310>"
      ]
     },
     "execution_count": 47,
     "metadata": {},
     "output_type": "execute_result"
    },
    {
     "data": {
      "image/png": "[encoded data removed]",
      "text/plain": [
       "<Figure size 432x288 with 1 Axes>"
      ]
     },
     "metadata": {
      "needs_background": "light"
     },
     "output_type": "display_data"
    }
   ],
   "source": [
    "results = pd.DataFrame(results, index=['error'])\n",
    "results.plot.barh()"
   ]
  },
  {
   "cell_type": "markdown",
   "metadata": {},
   "source": [
    "As we see even without loans (cause there are no relevant value from transfermarkt to predict loans) our model is equal (and even slightly better) to transfermart predictions"
   ]
  }
 ],
 "metadata": {
  "kernelspec": {
   "display_name": "Python 3",
   "language": "python",
   "name": "python3"
  },
  "language_info": {
   "codemirror_mode": {
    "name": "ipython",
    "version": 3
   },
   "file_extension": ".py",
   "mimetype": "text/x-python",
   "name": "python",
   "nbconvert_exporter": "python",
   "pygments_lexer": "ipython3",
   "version": "3.7.5"
  }
 },
 "nbformat": 4,
 "nbformat_minor": 2
}
